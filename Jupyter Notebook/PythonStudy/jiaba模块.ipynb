{
 "cells": [
  {
   "cell_type": "code",
   "execution_count": 154,
   "metadata": {},
   "outputs": [
    {
     "ename": "SyntaxError",
     "evalue": "invalid syntax (<ipython-input-154-f10b8045ec21>, line 3)",
     "output_type": "error",
     "traceback": [
      "\u001b[1;36m  File \u001b[1;32m\"<ipython-input-154-f10b8045ec21>\"\u001b[1;36m, line \u001b[1;32m3\u001b[0m\n\u001b[1;33m    import pandas pd\u001b[0m\n\u001b[1;37m                   ^\u001b[0m\n\u001b[1;31mSyntaxError\u001b[0m\u001b[1;31m:\u001b[0m invalid syntax\n"
     ]
    }
   ],
   "source": [
    "import jieba\n",
    "import re\n",
    "import pandas pd"
   ]
  },
  {
   "cell_type": "code",
   "execution_count": 3,
   "metadata": {},
   "outputs": [
    {
     "data": {
      "text/plain": [
       "<generator object Tokenizer.cut at 0x0000021374E7FA98>"
      ]
     },
     "execution_count": 3,
     "metadata": {},
     "output_type": "execute_result"
    }
   ],
   "source": [
    "#jieba.cut 是 jieba 模块下进行中文语句分词的主要函数\n",
    "#返回的结果也是一个可迭代的 generator\n",
    "seg_list = jieba.cut(\"我爱文本数据分析\")  # 默认是精确模式\n",
    "seg_list"
   ]
  },
  {
   "cell_type": "markdown",
   "metadata": {},
   "source": [
    "+ ***jieba.cut*** 返回的结果是一个可迭代的 generator，可以使用 for 循环来获得分词后得到的每一个词语，也可以用 list() 函数进行转化"
   ]
  },
  {
   "cell_type": "code",
   "execution_count": 15,
   "metadata": {},
   "outputs": [
    {
     "name": "stdout",
     "output_type": "stream",
     "text": [
      "我\n",
      "爱\n",
      "文本\n",
      "数据分析\n"
     ]
    }
   ],
   "source": [
    "for i in jieba.cut(\"我爱文本数据分析\"):\n",
    "    print(i)"
   ]
  },
  {
   "cell_type": "code",
   "execution_count": 7,
   "metadata": {},
   "outputs": [
    {
     "name": "stdout",
     "output_type": "stream",
     "text": [
      "我\n",
      "爱\n",
      "文本\n",
      "本数\n",
      "数据\n",
      "数据分析\n",
      "分析\n"
     ]
    }
   ],
   "source": [
    "for i in jieba.cut(\"我爱文本数据分析\",cut_all=True): # 全模式\n",
    "     print(i) "
   ]
  },
  {
   "cell_type": "code",
   "execution_count": 9,
   "metadata": {},
   "outputs": [
    {
     "data": {
      "text/plain": [
       "<generator object Tokenizer.cut_for_search at 0x0000021375086138>"
      ]
     },
     "execution_count": 9,
     "metadata": {},
     "output_type": "execute_result"
    }
   ],
   "source": [
    "seg_list = jieba.cut_for_search(\"我爱文本数据分析\")\n",
    "seg_list"
   ]
  },
  {
   "cell_type": "markdown",
   "metadata": {},
   "source": [
    "+ ***jieba.cut_for_search*** 是适用于搜索引擎构建倒排索引（Inverted index）的分词函数，\n",
    "+ ***调用方式为***：jieba.cut_for_search(sentence, HMM=True)"
   ]
  },
  {
   "cell_type": "code",
   "execution_count": 10,
   "metadata": {},
   "outputs": [
    {
     "name": "stdout",
     "output_type": "stream",
     "text": [
      "我\n",
      "爱\n",
      "文本\n",
      "数据\n",
      "分析\n",
      "数据分析\n"
     ]
    }
   ],
   "source": [
    "\n",
    "for i in jieba.cut_for_search(\"我爱文本数据分析\"):\n",
    "     print (i)"
   ]
  },
  {
   "cell_type": "markdown",
   "metadata": {},
   "source": [
    "+ ***jieba.lcut*** 可以直接返回列表结果，直接使用 jieba.lcut 进行分词可以省去对 jieba.cut 分词结果的列表化处理。"
   ]
  },
  {
   "cell_type": "code",
   "execution_count": 17,
   "metadata": {},
   "outputs": [
    {
     "data": {
      "text/plain": [
       "['我', '爱', '文本', '数据分析']"
      ]
     },
     "execution_count": 17,
     "metadata": {},
     "output_type": "execute_result"
    }
   ],
   "source": [
    "jieba.lcut(\"我爱文本数据分析\")"
   ]
  },
  {
   "cell_type": "code",
   "execution_count": 18,
   "metadata": {},
   "outputs": [
    {
     "name": "stdout",
     "output_type": "stream",
     "text": [
      "我-爱-文本-数据分析\n"
     ]
    }
   ],
   "source": [
    "print (\"-\".join(jieba.lcut(\"我爱文本数据分析\")))"
   ]
  },
  {
   "cell_type": "code",
   "execution_count": 19,
   "metadata": {},
   "outputs": [
    {
     "data": {
      "text/plain": [
       "['我', '爱', '文本', '数据', '分析', '数据分析']"
      ]
     },
     "execution_count": 19,
     "metadata": {},
     "output_type": "execute_result"
    }
   ],
   "source": [
    "jieba.lcut_for_search(\"我爱文本数据分析\")"
   ]
  },
  {
   "cell_type": "code",
   "execution_count": 21,
   "metadata": {},
   "outputs": [
    {
     "name": "stdout",
     "output_type": "stream",
     "text": [
      "我/爱/文本/数据/分析/数据分析\n"
     ]
    }
   ],
   "source": [
    "print (\"/\".join(jieba.lcut_for_search(\"我爱文本数据分析\")))"
   ]
  },
  {
   "cell_type": "markdown",
   "metadata": {},
   "source": [
    "+ ***posseg*** 包是 jieba 中实现词性标注功能的包"
   ]
  },
  {
   "cell_type": "code",
   "execution_count": 24,
   "metadata": {},
   "outputs": [],
   "source": [
    " from jieba import posseg  #posseg词性准确性不高"
   ]
  },
  {
   "cell_type": "code",
   "execution_count": 94,
   "metadata": {},
   "outputs": [
    {
     "data": {
      "text/plain": [
       "[pair('随州市', 'ns'),\n",
       " pair('兴邦', 'ns'),\n",
       " pair('技术', 'n'),\n",
       " pair('有限公司', 'n'),\n",
       " pair('\\t', 'x'),\n",
       " pair('\\t', 'x')]"
      ]
     },
     "execution_count": 94,
     "metadata": {},
     "output_type": "execute_result"
    }
   ],
   "source": [
    "pos = list(jieba.posseg.cut(\"随州市兴邦技术有限公司\t\t\"))\n",
    "pos"
   ]
  },
  {
   "cell_type": "code",
   "execution_count": 91,
   "metadata": {},
   "outputs": [
    {
     "name": "stdout",
     "output_type": "stream",
     "text": [
      "['瑞普', '信息', '科技', '有限公司', '分公司', '\\t']\n"
     ]
    }
   ],
   "source": [
    "channel_list=[]\n",
    "for word, nature in pos:\n",
    "        if nature != 'ns':\n",
    "            #print(word)\n",
    "            #word\n",
    "            channel_list.append(word)\n",
    "print( channel_list)\n"
   ]
  },
  {
   "cell_type": "code",
   "execution_count": 93,
   "metadata": {},
   "outputs": [
    {
     "data": {
      "text/plain": [
       "['随州市', '兴邦', '技术', '有限公司', '\\t']"
      ]
     },
     "execution_count": 93,
     "metadata": {},
     "output_type": "execute_result"
    }
   ],
   "source": [
    "list(jieba.cut(\"随州市兴邦技术有限公司\t\",cut_all=False))"
   ]
  },
  {
   "cell_type": "markdown",
   "metadata": {},
   "source": [
    "# index索引的使用"
   ]
  },
  {
   "cell_type": "code",
   "execution_count": 96,
   "metadata": {},
   "outputs": [
    {
     "data": {
      "text/plain": [
       "3"
      ]
     },
     "execution_count": 96,
     "metadata": {},
     "output_type": "execute_result"
    }
   ],
   "source": [
    "'随州市兴邦技术有限公司'.index('兴邦')"
   ]
  },
  {
   "cell_type": "code",
   "execution_count": 133,
   "metadata": {},
   "outputs": [
    {
     "data": {
      "text/plain": [
       "4"
      ]
     },
     "execution_count": 133,
     "metadata": {},
     "output_type": "execute_result"
    }
   ],
   "source": [
    "a='呼噜睡吧猪'\n",
    "b='猪'\n",
    "a.index(b)"
   ]
  },
  {
   "cell_type": "code",
   "execution_count": 233,
   "metadata": {},
   "outputs": [],
   "source": [
    "st=['我是这个你国人','江西是个好地方','在上海压力很大','草地是绿色的'] #path"
   ]
  },
  {
   "cell_type": "code",
   "execution_count": 234,
   "metadata": {},
   "outputs": [],
   "source": [
    "sd=['国人','江西','上海','南京','好人'] #channel"
   ]
  },
  {
   "cell_type": "code",
   "execution_count": 235,
   "metadata": {},
   "outputs": [
    {
     "data": {
      "text/plain": [
       "[]"
      ]
     },
     "execution_count": 235,
     "metadata": {},
     "output_type": "execute_result"
    }
   ],
   "source": [
    "channel=[i for i in sd if i in st]\n",
    "channel"
   ]
  },
  {
   "cell_type": "code",
   "execution_count": 236,
   "metadata": {},
   "outputs": [
    {
     "data": {
      "text/plain": [
       "list"
      ]
     },
     "execution_count": 236,
     "metadata": {},
     "output_type": "execute_result"
    }
   ],
   "source": [
    "type(sd)"
   ]
  },
  {
   "cell_type": "code",
   "execution_count": 237,
   "metadata": {},
   "outputs": [
    {
     "name": "stdout",
     "output_type": "stream",
     "text": [
      "<class 'str'>\n",
      "国人 5\n",
      "<class 'str'>\n",
      "江西 0\n",
      "<class 'str'>\n",
      "上海 1\n"
     ]
    }
   ],
   "source": [
    "for t in st:\n",
    "    for d in sd:         \n",
    "        if d in t:# 子集\n",
    "            print(type(d))\n",
    "            print(d,t.index(d))"
   ]
  },
  {
   "cell_type": "code",
   "execution_count": 238,
   "metadata": {},
   "outputs": [
    {
     "name": "stdout",
     "output_type": "stream",
     "text": [
      "[2, 3]\n"
     ]
    }
   ],
   "source": [
    "#判断一个列表元素是否再另一个列表元素\n",
    "a = [2,3]\n",
    "b = [2,3,4,5]\n",
    "inter = [i for i in a if i in b]\n",
    "print(inter)"
   ]
  },
  {
   "cell_type": "code",
   "execution_count": 182,
   "metadata": {},
   "outputs": [
    {
     "name": "stdout",
     "output_type": "stream",
     "text": [
      "True\n"
     ]
    }
   ],
   "source": [
    "print(set(a).issubset(set(b)))# 判断子集"
   ]
  }
 ],
 "metadata": {
  "kernelspec": {
   "display_name": "Python 3",
   "language": "python",
   "name": "python3"
  },
  "language_info": {
   "codemirror_mode": {
    "name": "ipython",
    "version": 3
   },
   "file_extension": ".py",
   "mimetype": "text/x-python",
   "name": "python",
   "nbconvert_exporter": "python",
   "pygments_lexer": "ipython3",
   "version": "3.7.3"
  }
 },
 "nbformat": 4,
 "nbformat_minor": 2
}
