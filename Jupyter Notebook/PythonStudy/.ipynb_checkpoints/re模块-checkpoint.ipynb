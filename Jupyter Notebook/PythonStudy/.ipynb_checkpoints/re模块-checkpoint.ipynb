{
 "cells": [
  {
   "cell_type": "code",
   "execution_count": 2,
   "metadata": {},
   "outputs": [],
   "source": [
    "import pandas as pd\n",
    "import re"
   ]
  },
  {
   "cell_type": "markdown",
   "metadata": {},
   "source": [
    "+ '.'     默认匹配除\\n之外的任意一个字符，若指定flag DOTALL,则匹配任意字符，包括换行\n",
    "+ '^'     匹配字符开头，若指定flags MULTILINE,这种也可以匹配上(r\"^a\",\"\\nabc\\neee\",flags=re.MULTILINE)\n",
    "+ '$'     匹配字符结尾，或e.search(\"foo$\",\"bfoo\\nsdfsf\",flags=re.MULTILINE).group()也可以\n",
    "+ '*'     匹配*号前的字符0次或多次，re.findall(\"ab*\",\"cabb3abcbbac\")  结果为['abb', 'ab', 'a']\n",
    "+ '+'     匹配前一个字符1次或多次，re.findall(\"ab+\",\"ab+cd+abb+bba\") 结果['ab', 'abb']\n",
    "+ '?'     匹配前一个字符1次或0次\n",
    "+ '{m}'   匹配前一个字符m次\n",
    "+ '{n,m}' 匹配前一个字符n到m次，re.findall(\"ab{1,3}\",\"abb abc abbcbbb\") 结果'abb', 'ab', 'abb']\n",
    "+ '|'     匹配|左或|右的字符，re.search(\"abc|ABC\",\"ABCBabcCD\").group() 结果'ABC'\n",
    "+ '(...)' 分组匹配，re.search(\"(abc){2}a(123|456)c\", \"abcabca456c\").group() 结果 abcabca456c\n",
    " \n",
    "+ '\\A'    只从字符开头匹配，re.search(\"\\Aabc\",\"alexabc\") 是匹配不到的\n",
    "+ '\\Z'    匹配字符结尾，同$\n",
    "+ '\\d'    匹配数字0-9\n",
    "+ '\\D'    匹配非数字\n",
    "+ '\\w'    匹配[A-Za-z0-9]\n",
    "+ '\\W'    匹配非[A-Za-z0-9]\n",
    "+ 's'     匹配空白字符、\\t、\\n、\\r , re.search(\"\\s+\",\"ab\\tc1\\n3\").group() 结果 '\\t'\n",
    "+ '(?P<name>...)' 分组匹配 re.search(\"(?P<province>[0-9]{4})(?P<city>[0-9]{2})(?P<birthday>[0-9]{4})\",\"371481199306143242\").groupdict(\"city\") 结果{'province': '3714', 'city': '81', 'birthday': '1993'}"
   ]
  },
  {
   "cell_type": "code",
   "execution_count": 3,
   "metadata": {},
   "outputs": [
    {
     "data": {
      "text/plain": [
       "['abc', 'de', 'f', 'GH']"
      ]
     },
     "execution_count": 3,
     "metadata": {},
     "output_type": "execute_result"
    }
   ],
   "source": [
    "#split分割字符串\n",
    "re.split(\"[0-9]+\",\"abc12de3f45GH\")#以数字来分割"
   ]
  },
  {
   "cell_type": "code",
   "execution_count": 6,
   "metadata": {},
   "outputs": [
    {
     "data": {
      "text/plain": [
       "'abc|de|f|GH'"
      ]
     },
     "execution_count": 6,
     "metadata": {},
     "output_type": "execute_result"
    }
   ],
   "source": [
    "#sub替换\n",
    "re.sub(\"[0-9]+\",\"|\",\"abc12de3f45GH\")"
   ]
  },
  {
   "cell_type": "code",
   "execution_count": 5,
   "metadata": {},
   "outputs": [
    {
     "data": {
      "text/plain": [
       "'abc|de|f45GH'"
      ]
     },
     "execution_count": 5,
     "metadata": {},
     "output_type": "execute_result"
    }
   ],
   "source": [
    "re.sub(\"[0-9]+\",\"|\",\"abc12de3f45GH\",count=2)"
   ]
  },
  {
   "cell_type": "code",
   "execution_count": 8,
   "metadata": {},
   "outputs": [
    {
     "data": {
      "text/plain": [
       "'\\\\'"
      ]
     },
     "execution_count": 8,
     "metadata": {},
     "output_type": "execute_result"
    }
   ],
   "source": [
    "#\\反斜杠的匹配使用\n",
    "re.search(r\"\\\\\",\"abc12de\\\\3f45GH\").group()"
   ]
  },
  {
   "cell_type": "markdown",
   "metadata": {},
   "source": [
    "# re.compile\n",
    "+ 先使用re.compile()函数，将正则表达式的字符串形式编译成实例"
   ]
  },
  {
   "cell_type": "code",
   "execution_count": 11,
   "metadata": {},
   "outputs": [
    {
     "data": {
      "text/plain": [
       "['上海爱数信息技术', '有限', '公司']"
      ]
     },
     "execution_count": 11,
     "metadata": {},
     "output_type": "execute_result"
    }
   ],
   "source": [
    "regex = re.compile('[-—]+')   #先使用re.compile()函数，将正则表达式的字符串形式编译成regex实例\n",
    "company1 = regex.split('上海爱数信息技术-有限—公司')\n",
    "company1"
   ]
  },
  {
   "cell_type": "code",
   "execution_count": 15,
   "metadata": {},
   "outputs": [],
   "source": [
    "company2 = re.split('[-—]+','上海爱数信息技术-有限—公司')  #相当于company1的效果"
   ]
  },
  {
   "cell_type": "code",
   "execution_count": 16,
   "metadata": {},
   "outputs": [
    {
     "data": {
      "text/plain": [
       "['上海爱数信息技术', '有限', '公司']"
      ]
     },
     "execution_count": 16,
     "metadata": {},
     "output_type": "execute_result"
    }
   ],
   "source": [
    "company2"
   ]
  },
  {
   "cell_type": "code",
   "execution_count": 22,
   "metadata": {},
   "outputs": [
    {
     "data": {
      "text/plain": [
       "'上海爱数信\\\\息技术-有限*公司'"
      ]
     },
     "execution_count": 22,
     "metadata": {},
     "output_type": "execute_result"
    }
   ],
   "source": [
    "ship1 = re.sub('[（\\(].*[）\\)]', '', '上海爱数信\\息技术-有限*公司')\n",
    "ship1"
   ]
  },
  {
   "cell_type": "code",
   "execution_count": 25,
   "metadata": {},
   "outputs": [
    {
     "name": "stdout",
     "output_type": "stream",
     "text": [
      "11\n"
     ]
    }
   ],
   "source": [
    "a=\" \\rzha ng\\n\\t \"\n",
    "print(len(a))\n",
    "\n"
   ]
  },
  {
   "cell_type": "code",
   "execution_count": 26,
   "metadata": {},
   "outputs": [
    {
     "name": "stdout",
     "output_type": "stream",
     "text": [
      "zha ng\n"
     ]
    }
   ],
   "source": [
    "b=a.strip()\n",
    "print(b)"
   ]
  },
  {
   "cell_type": "markdown",
   "metadata": {},
   "source": [
    "# match  \n",
    "+ 方法是从字符的开头开始，只取符合条件的第一个;"
   ]
  },
  {
   "cell_type": "code",
   "execution_count": null,
   "metadata": {},
   "outputs": [],
   "source": []
  }
 ],
 "metadata": {
  "kernelspec": {
   "display_name": "Python 3",
   "language": "python",
   "name": "python3"
  },
  "language_info": {
   "codemirror_mode": {
    "name": "ipython",
    "version": 3
   },
   "file_extension": ".py",
   "mimetype": "text/x-python",
   "name": "python",
   "nbconvert_exporter": "python",
   "pygments_lexer": "ipython3",
   "version": "3.7.3"
  }
 },
 "nbformat": 4,
 "nbformat_minor": 2
}
