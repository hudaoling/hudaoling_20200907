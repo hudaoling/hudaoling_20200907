{
 "cells": [
  {
   "cell_type": "markdown",
   "metadata": {},
   "source": [
    "*markdown学习资料https://www.w3cschool.cn/lme/q92a1srq.html  \n",
    "\n",
    "https://www.iminho.me/wiki/docs/mindoc/markdown-basic.md"
   ]
  },
  {
   "cell_type": "markdown",
   "metadata": {},
   "source": [
    "# h1\n",
    "## h2\n",
    "### h3\n",
    "#### h4\n",
    "##### h5\n",
    "###### h6"
   ]
  },
  {
   "cell_type": "markdown",
   "metadata": {},
   "source": [
    "**换行方法**：敲完一行后，空两格再回车，写下一行  \n",
    "atest  \n",
    "btest  \n",
    "ctest  \n",
    "~~这是删除~~"
   ]
  },
  {
   "cell_type": "markdown",
   "metadata": {},
   "source": [
    "![image.png](attachment:image.png)"
   ]
  },
  {
   "cell_type": "markdown",
   "metadata": {},
   "source": [
    "![image.png](attachment:image.png)"
   ]
  },
  {
   "cell_type": "markdown",
   "metadata": {},
   "source": [
    "# 快捷键\n",
    "+ ***Shift+空格***，屏幕向上滚动  \n",
    "+ ***空格***，屏幕向下滚动  \n",
    "+ ***Enter***编辑选中的代码行  \n",
    "+ ***Esc***推出该行的编辑 \n",
    "+ ***Shift+Enter*** <font color=#FF0000> 执行代码行</font> \n",
    "+ ***上键***：切换到上一代码行  \n",
    "+ ***下健***：切换到下一代码行  "
   ]
  },
  {
   "cell_type": "markdown",
   "metadata": {},
   "source": [
    "# 常用颜色\n",
    "https://blog.csdn.net/testcs_dn/article/details/45719357/  \n",
    "蓝Blue\t#0000FF  \n",
    "红Red\t#FF0000  \n",
    "黑Black\t#000000  \n",
    "橙Darkorange\t#FF8C00  \n",
    "绿Green\t#008000  \n",
    "紫Purple\t#800080  "
   ]
  },
  {
   "cell_type": "code",
   "execution_count": null,
   "metadata": {},
   "outputs": [],
   "source": []
  }
 ],
 "metadata": {
  "kernelspec": {
   "display_name": "Python 3",
   "language": "python",
   "name": "python3"
  },
  "language_info": {
   "codemirror_mode": {
    "name": "ipython",
    "version": 3
   },
   "file_extension": ".py",
   "mimetype": "text/x-python",
   "name": "python",
   "nbconvert_exporter": "python",
   "pygments_lexer": "ipython3",
   "version": "3.7.3"
  }
 },
 "nbformat": 4,
 "nbformat_minor": 2
}
