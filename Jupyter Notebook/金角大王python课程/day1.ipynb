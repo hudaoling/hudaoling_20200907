{
 "cells": [
  {
   "cell_type": "markdown",
   "metadata": {},
   "source": [
    "***变量_定义的规则：***  \n",
    "\n",
    "+ 变量名只能是 字母、数字或下划线的任意组合\n",
    "+ 变量名的第一个字符不能是数字\n",
    "+ 以下关键字不能声明为变量名\n",
    "+ ['and', 'as', 'assert', 'break', 'class', 'continue', 'def', 'del', 'elif', 'else', 'except', 'exec', 'finally', 'for', 'from', 'global', 'if', 'import', 'in', 'is', 'lambda', 'not', 'or', 'pass', 'print', 'raise', 'return', 'try', 'while', 'with', 'yield']"
   ]
  },
  {
   "cell_type": "markdown",
   "metadata": {},
   "source": [
    "***注释_使用方法*** \n",
    "+ 当行注视：# 被注释内容\n",
    "+ 多行注释：\"\"\" 被注释内容 \"\"\""
   ]
  },
  {
   "cell_type": "markdown",
   "metadata": {},
   "source": [
    "***声明解释器***\n",
    "+ !/usr/bin/env python  "
   ]
  },
  {
   "cell_type": "markdown",
   "metadata": {},
   "source": [
    "### 变量定义的规则：\n",
    "\n",
    "+ 变量名只能是 字母、数字或下划线的任意组合\n",
    "+ 变量名的第一个字符不能是数字\n",
    "+ 以下关键字不能声明为变量名\n",
    "['and', 'as', 'assert', 'break', 'class', 'continue', 'def', 'del', 'elif', 'else', 'except', 'exec', 'finally', 'for', 'from', 'global', 'if', 'import', 'in', 'is', 'lambda', 'not', 'or', 'pass', 'print', 'raise', 'return', 'try', 'while', 'with', 'yield']"
   ]
  },
  {
   "cell_type": "code",
   "execution_count": 187,
   "metadata": {},
   "outputs": [
    {
     "name": "stdout",
     "output_type": "stream",
     "text": [
      "Alex Li Alex Li\n"
     ]
    }
   ],
   "source": [
    "name = \"Alex Li\"\n",
    "name2 = name\n",
    "print(name,name2)"
   ]
  },
  {
   "cell_type": "code",
   "execution_count": 196,
   "metadata": {},
   "outputs": [
    {
     "name": "stdout",
     "output_type": "stream",
     "text": [
      "What is the value of Alex Li now?\n"
     ]
    }
   ],
   "source": [
    "name = \"Jack\"\n",
    "print((\"What is the value of %s now?\") % name2) #name2不会随着name重复赋值而变化"
   ]
  },
  {
   "cell_type": "markdown",
   "metadata": {},
   "source": [
    "# 用户输入"
   ]
  },
  {
   "cell_type": "code",
   "execution_count": 7,
   "metadata": {},
   "outputs": [
    {
     "name": "stdout",
     "output_type": "stream",
     "text": [
      "What is your name?hdl\n",
      "Hello hdl\n"
     ]
    }
   ],
   "source": [
    "name = input(\"What is your name?\")\n",
    "print(\"Hello \" + name )"
   ]
  },
  {
   "cell_type": "code",
   "execution_count": 10,
   "metadata": {},
   "outputs": [
    {
     "name": "stdout",
     "output_type": "stream",
     "text": [
      "['e:\\\\python\\\\lib\\\\site-packages\\\\ipykernel_launcher.py', '-f', 'C:\\\\Users\\\\DELL\\\\AppData\\\\Roaming\\\\jupyter\\\\runtime\\\\kernel-e4970b3a-4ec9-4f8c-a7eb-5f6b5085a751.json']\n"
     ]
    }
   ],
   "source": [
    "import sys\n",
    "print(sys.argv)"
   ]
  },
  {
   "cell_type": "code",
   "execution_count": 12,
   "metadata": {},
   "outputs": [
    {
     "data": {
      "text/plain": [
       "1"
      ]
     },
     "execution_count": 12,
     "metadata": {},
     "output_type": "execute_result"
    }
   ],
   "source": [
    "import os\n",
    "os.system(\"df -h\") #调用系统命令"
   ]
  },
  {
   "cell_type": "code",
   "execution_count": 14,
   "metadata": {},
   "outputs": [
    {
     "data": {
      "text/plain": [
       "1"
      ]
     },
     "execution_count": 14,
     "metadata": {},
     "output_type": "execute_result"
    }
   ],
   "source": [
    "import os,sys\n",
    "os.system(''.join(sys.argv[1:])) #把用户的输入的参数当作一条命令交给os.system来执行"
   ]
  },
  {
   "cell_type": "code",
   "execution_count": 15,
   "metadata": {},
   "outputs": [
    {
     "name": "stdout",
     "output_type": "stream",
     "text": [
      "['E:\\\\Jupyter Files\\\\金角大王python课程', 'e:\\\\python\\\\python37.zip', 'e:\\\\python\\\\DLLs', 'e:\\\\python\\\\lib', 'e:\\\\python', '', 'e:\\\\python\\\\lib\\\\site-packages', 'e:\\\\python\\\\lib\\\\site-packages\\\\win32', 'e:\\\\python\\\\lib\\\\site-packages\\\\win32\\\\lib', 'e:\\\\python\\\\lib\\\\site-packages\\\\Pythonwin', 'e:\\\\python\\\\lib\\\\site-packages\\\\IPython\\\\extensions', 'C:\\\\Users\\\\DELL\\\\.ipython']\n"
     ]
    }
   ],
   "source": [
    "#打印系统环境变量\n",
    "print(sys.path)"
   ]
  },
  {
   "cell_type": "markdown",
   "metadata": {},
   "source": [
    "# 数据类型"
   ]
  },
  {
   "cell_type": "markdown",
   "metadata": {},
   "source": [
    "***字符串常用功能：*** 字符串 %s；整数%d；浮点数 %f\n",
    "+ 移除空白\n",
    "+ 分割\n",
    "+ 长度\n",
    "+ 索引\n",
    "+ 切片"
   ]
  },
  {
   "cell_type": "code",
   "execution_count": 17,
   "metadata": {},
   "outputs": [
    {
     "name": "stdout",
     "output_type": "stream",
     "text": [
      "i am alex \n"
     ]
    }
   ],
   "source": [
    "name = \"alex\"\n",
    "print (\"i am %s \" % name)"
   ]
  },
  {
   "cell_type": "markdown",
   "metadata": {},
   "source": [
    "***列表，基本操作：*** list[]---中括号表示，可变\n",
    "\n",
    "+ 索引\n",
    "+ 切片\n",
    "+ 追加\n",
    "+ 删除\n",
    "+ 长度\n",
    "+ 切片\n",
    "+ 循环\n",
    "+ 包含"
   ]
  },
  {
   "cell_type": "code",
   "execution_count": 21,
   "metadata": {},
   "outputs": [
    {
     "data": {
      "text/plain": [
       "['alex', 'seven', 'eric']"
      ]
     },
     "execution_count": 21,
     "metadata": {},
     "output_type": "execute_result"
    }
   ],
   "source": [
    "#列表list,可变列表\n",
    "name_list = ['alex', 'seven', 'eric']\n",
    "name_list"
   ]
  },
  {
   "cell_type": "code",
   "execution_count": 23,
   "metadata": {},
   "outputs": [
    {
     "data": {
      "text/plain": [
       "['alex', 'seven', 'eric']"
      ]
     },
     "execution_count": 23,
     "metadata": {},
     "output_type": "execute_result"
    }
   ],
   "source": [
    "#列表list,可变列表\n",
    "name_list = list(['alex', 'seven', 'eric'])\n",
    "name_list"
   ]
  },
  {
   "cell_type": "code",
   "execution_count": 29,
   "metadata": {},
   "outputs": [
    {
     "data": {
      "text/plain": [
       "(11, 22, 33, 44, 55)"
      ]
     },
     "execution_count": 29,
     "metadata": {},
     "output_type": "execute_result"
    }
   ],
   "source": [
    "ages = (11, 22, 33, 44, 55)\n",
    "ages"
   ]
  },
  {
   "cell_type": "markdown",
   "metadata": {},
   "source": [
    "***元组:*** info()-----括号表示,不可变列表\n",
    "+ 其实跟列表差不多，也是存一组数，只不是它一旦创建，便不能再修改，所以又叫只读列表"
   ]
  },
  {
   "cell_type": "code",
   "execution_count": 26,
   "metadata": {},
   "outputs": [
    {
     "data": {
      "text/plain": [
       "(11, 22, 33, 44, 55)"
      ]
     },
     "execution_count": 26,
     "metadata": {},
     "output_type": "execute_result"
    }
   ],
   "source": [
    "#元组(不可变列表)\n",
    "ages = tuple((11, 22, 33, 44, 55))\n",
    "ages"
   ]
  },
  {
   "cell_type": "code",
   "execution_count": 27,
   "metadata": {},
   "outputs": [
    {
     "data": {
      "text/plain": [
       "{'name': 'mr.wu', 'age': 18}"
      ]
     },
     "execution_count": 27,
     "metadata": {},
     "output_type": "execute_result"
    }
   ],
   "source": [
    "#字典（无序）\n",
    "person = {\"name\": \"mr.wu\", 'age': 18}\n",
    "person"
   ]
  },
  {
   "cell_type": "markdown",
   "metadata": {},
   "source": [
    "***字典：*** info{}----- 大括号标识，是无序的\n",
    "+ *字典一种key - value 的数据类型，使用就像我们上学用的字典，通过笔划、字母来查对应页的详细内容。*\n",
    "+ *dict是无序的,key必须是唯一的,so 天生去重*  \n",
    "***常用操作：***\n",
    "+ 索引\n",
    "+ 新增\n",
    "+ 删除\n",
    "+ 键、值、键值对\n",
    "+ 循环\n",
    "+ 长度"
   ]
  },
  {
   "cell_type": "code",
   "execution_count": 28,
   "metadata": {},
   "outputs": [
    {
     "data": {
      "text/plain": [
       "{'name': 'mr.wu', 'age': 18}"
      ]
     },
     "execution_count": 28,
     "metadata": {},
     "output_type": "execute_result"
    }
   ],
   "source": [
    "person = dict({\"name\": \"mr.wu\", 'age': 18})\n",
    "person"
   ]
  },
  {
   "cell_type": "markdown",
   "metadata": {},
   "source": [
    "# Python运算\n",
    "https://www.runoob.com/python/python-operators.html\n",
    "+ 算术运算符 + - * / % ** //\n",
    "+ 比较运算符 == != <> < > >= <=\n",
    "+ 赋值运算符 =  += -= *= /=  %=  **=  //=\n",
    "+ 位运算符  & | ~ <<  >> ^\n",
    "+ 逻辑运算符 and  or  not\n",
    "+ 成员运算符 is ,is not\n",
    "+ 身份运算符\n",
    "+ 运算符优先级"
   ]
  },
  {
   "cell_type": "markdown",
   "metadata": {},
   "source": [
    "### 算术运算符 + - * / % ** //"
   ]
  },
  {
   "cell_type": "code",
   "execution_count": 43,
   "metadata": {},
   "outputs": [],
   "source": [
    "a=21\n",
    "b=10\n",
    "c=10"
   ]
  },
  {
   "cell_type": "code",
   "execution_count": 44,
   "metadata": {},
   "outputs": [
    {
     "data": {
      "text/plain": [
       "31"
      ]
     },
     "execution_count": 44,
     "metadata": {},
     "output_type": "execute_result"
    }
   ],
   "source": [
    "c=a+b\n",
    "c"
   ]
  },
  {
   "cell_type": "code",
   "execution_count": 45,
   "metadata": {},
   "outputs": [
    {
     "data": {
      "text/plain": [
       "210"
      ]
     },
     "execution_count": 45,
     "metadata": {},
     "output_type": "execute_result"
    }
   ],
   "source": [
    "c=a*b\n",
    "c"
   ]
  },
  {
   "cell_type": "code",
   "execution_count": 46,
   "metadata": {},
   "outputs": [
    {
     "data": {
      "text/plain": [
       "2.1"
      ]
     },
     "execution_count": 46,
     "metadata": {},
     "output_type": "execute_result"
    }
   ],
   "source": [
    "c=a/b \n",
    "c"
   ]
  },
  {
   "cell_type": "code",
   "execution_count": 47,
   "metadata": {},
   "outputs": [
    {
     "data": {
      "text/plain": [
       "1"
      ]
     },
     "execution_count": 47,
     "metadata": {},
     "output_type": "execute_result"
    }
   ],
   "source": [
    "c=a%b  #取模 - 返回除法的余数\n",
    "c"
   ]
  },
  {
   "cell_type": "code",
   "execution_count": 48,
   "metadata": {},
   "outputs": [
    {
     "data": {
      "text/plain": [
       "2"
      ]
     },
     "execution_count": 48,
     "metadata": {},
     "output_type": "execute_result"
    }
   ],
   "source": [
    "c=a//b  #取整除 - 返回商的整数部分（向下取整）\n",
    "c"
   ]
  },
  {
   "cell_type": "code",
   "execution_count": 49,
   "metadata": {},
   "outputs": [
    {
     "data": {
      "text/plain": [
       "8"
      ]
     },
     "execution_count": 49,
     "metadata": {},
     "output_type": "execute_result"
    }
   ],
   "source": [
    "a=2\n",
    "b=3\n",
    "c=a**b  #\t幂 - 返回x的y次幂\n",
    "c"
   ]
  },
  {
   "cell_type": "code",
   "execution_count": 50,
   "metadata": {},
   "outputs": [],
   "source": [
    "a = 21\n",
    "b = 10\n",
    "c = 0"
   ]
  },
  {
   "cell_type": "markdown",
   "metadata": {},
   "source": [
    "### 比较运算符 == != <> < > >= <="
   ]
  },
  {
   "cell_type": "code",
   "execution_count": 51,
   "metadata": {},
   "outputs": [
    {
     "name": "stdout",
     "output_type": "stream",
     "text": [
      "1 - a 不等于 b\n"
     ]
    }
   ],
   "source": [
    "if  a == b :\n",
    "   print( \"1 - a 等于 b\")\n",
    "else:\n",
    "   print( \"1 - a 不等于 b\")"
   ]
  },
  {
   "cell_type": "code",
   "execution_count": 52,
   "metadata": {},
   "outputs": [
    {
     "name": "stdout",
     "output_type": "stream",
     "text": [
      "2 - a 不等于 b\n"
     ]
    }
   ],
   "source": [
    "if  a != b :\n",
    "   print( \"2 - a 不等于 b\")\n",
    "else:\n",
    "   print (\"2 - a 等于 b\")"
   ]
  },
  {
   "cell_type": "code",
   "execution_count": 53,
   "metadata": {},
   "outputs": [
    {
     "name": "stdout",
     "output_type": "stream",
     "text": [
      "4 - a 大于等于 b\n"
     ]
    }
   ],
   "source": [
    "if  a < b :\n",
    "   print (\"4 - a 小于 b\" )\n",
    "else:\n",
    "   print (\"4 - a 大于等于 b\")"
   ]
  },
  {
   "cell_type": "code",
   "execution_count": 54,
   "metadata": {},
   "outputs": [
    {
     "name": "stdout",
     "output_type": "stream",
     "text": [
      "5 - a 大于 b\n"
     ]
    }
   ],
   "source": [
    " \n",
    "if  a > b :\n",
    "   print( \"5 - a 大于 b\")\n",
    "else:\n",
    "   print (\"5 - a 小于等于 b\")"
   ]
  },
  {
   "cell_type": "code",
   "execution_count": 55,
   "metadata": {},
   "outputs": [
    {
     "name": "stdout",
     "output_type": "stream",
     "text": [
      "6 - a 小于等于 b\n"
     ]
    }
   ],
   "source": [
    "# 修改变量 a 和 b 的值\n",
    "a = 5\n",
    "b = 20\n",
    "if  a <= b :\n",
    "   print( \"6 - a 小于等于 b\")\n",
    "else:\n",
    "   print( \"6 - a 大于  b\")"
   ]
  },
  {
   "cell_type": "code",
   "execution_count": 56,
   "metadata": {},
   "outputs": [
    {
     "name": "stdout",
     "output_type": "stream",
     "text": [
      "7 - b 大于等于 a\n"
     ]
    }
   ],
   "source": [
    "if  b >= a :\n",
    "   print (\"7 - b 大于等于 a\")\n",
    "else:\n",
    "   print (\"7 - b 小于 a\")"
   ]
  },
  {
   "cell_type": "markdown",
   "metadata": {},
   "source": [
    "###  赋值运算符"
   ]
  },
  {
   "cell_type": "code",
   "execution_count": 66,
   "metadata": {},
   "outputs": [],
   "source": [
    "a = 21\n",
    "b = 10\n",
    "c = 0"
   ]
  },
  {
   "cell_type": "code",
   "execution_count": 67,
   "metadata": {},
   "outputs": [
    {
     "data": {
      "text/plain": [
       "31"
      ]
     },
     "execution_count": 67,
     "metadata": {},
     "output_type": "execute_result"
    }
   ],
   "source": [
    "c=a+b\n",
    "c"
   ]
  },
  {
   "cell_type": "code",
   "execution_count": 68,
   "metadata": {},
   "outputs": [
    {
     "data": {
      "text/plain": [
       "52"
      ]
     },
     "execution_count": 68,
     "metadata": {},
     "output_type": "execute_result"
    }
   ],
   "source": [
    "c+=a #c += a 等效于 c = c + a\n",
    "c"
   ]
  },
  {
   "cell_type": "code",
   "execution_count": 69,
   "metadata": {},
   "outputs": [
    {
     "data": {
      "text/plain": [
       "1092"
      ]
     },
     "execution_count": 69,
     "metadata": {},
     "output_type": "execute_result"
    }
   ],
   "source": [
    "c *= a #c *= a 等效于 c = c * a\n",
    "c"
   ]
  },
  {
   "cell_type": "code",
   "execution_count": 70,
   "metadata": {},
   "outputs": [
    {
     "data": {
      "text/plain": [
       "52.0"
      ]
     },
     "execution_count": 70,
     "metadata": {},
     "output_type": "execute_result"
    }
   ],
   "source": [
    "c /= a  #c /= a 等效于 c = c / a\n",
    "c"
   ]
  },
  {
   "cell_type": "markdown",
   "metadata": {},
   "source": [
    "### 逻辑运算符"
   ]
  },
  {
   "cell_type": "code",
   "execution_count": 83,
   "metadata": {},
   "outputs": [],
   "source": [
    "a = 10\n",
    "b = 20"
   ]
  },
  {
   "cell_type": "code",
   "execution_count": 84,
   "metadata": {},
   "outputs": [
    {
     "name": "stdout",
     "output_type": "stream",
     "text": [
      "1 - 变量 a 和 b 都为 true\n"
     ]
    }
   ],
   "source": [
    "if  a and b :\n",
    "   print( \"1 - 变量 a 和 b 都为 true\")\n",
    "else:\n",
    "   print (\"1 - 变量 a 和 b 有一个不为 true\")"
   ]
  },
  {
   "cell_type": "code",
   "execution_count": 75,
   "metadata": {},
   "outputs": [
    {
     "name": "stdout",
     "output_type": "stream",
     "text": [
      "2 - 变量 a 和 b 都为 true，或其中一个变量为 true\n"
     ]
    }
   ],
   "source": [
    "if  a or b :\n",
    "   print( \"2 - 变量 a 和 b 都为 true，或其中一个变量为 true\")\n",
    "else:\n",
    "   print( \"2 - 变量 a 和 b 都不为 true\")"
   ]
  },
  {
   "cell_type": "code",
   "execution_count": 76,
   "metadata": {},
   "outputs": [
    {
     "name": "stdout",
     "output_type": "stream",
     "text": [
      "3 - 变量 a 和 b 有一个不为 true\n"
     ]
    }
   ],
   "source": [
    "a = 0\n",
    "if  a and b :\n",
    "   print (\"3 - 变量 a 和 b 都为 true\")\n",
    "else:\n",
    "   print( \"3 - 变量 a 和 b 有一个不为 true\")"
   ]
  },
  {
   "cell_type": "code",
   "execution_count": 85,
   "metadata": {},
   "outputs": [
    {
     "name": "stdout",
     "output_type": "stream",
     "text": [
      "4 - 变量 a 和 b 都为 true，或其中一个变量为 true\n"
     ]
    }
   ],
   "source": [
    "if  a or b :\n",
    "   print(\"4 - 变量 a 和 b 都为 true，或其中一个变量为 true\")\n",
    "else:\n",
    "   print (\"4 - 变量 a 和 b 都不为 true\")"
   ]
  },
  {
   "cell_type": "code",
   "execution_count": 86,
   "metadata": {},
   "outputs": [
    {
     "name": "stdout",
     "output_type": "stream",
     "text": [
      "5 - 变量 a 和 b 都为 true\n"
     ]
    }
   ],
   "source": [
    "if not( a and b ):\n",
    "   print (\"5 - 变量 a 和 b 都为 false，或其中一个变量为 false\")\n",
    "else:\n",
    "   print( \"5 - 变量 a 和 b 都为 true\")"
   ]
  },
  {
   "cell_type": "code",
   "execution_count": 87,
   "metadata": {},
   "outputs": [
    {
     "data": {
      "text/plain": [
       "False"
      ]
     },
     "execution_count": 87,
     "metadata": {},
     "output_type": "execute_result"
    }
   ],
   "source": [
    " not( a and b )"
   ]
  },
  {
   "cell_type": "markdown",
   "metadata": {},
   "source": [
    " ### 成员运算符"
   ]
  },
  {
   "cell_type": "code",
   "execution_count": 91,
   "metadata": {},
   "outputs": [],
   "source": [
    "a = 10\n",
    "b = 20\n",
    "list = [1, 2, 3, 4, 5 ]"
   ]
  },
  {
   "cell_type": "code",
   "execution_count": 93,
   "metadata": {},
   "outputs": [
    {
     "name": "stdout",
     "output_type": "stream",
     "text": [
      "1 - 变量 a 不在给定的列表中 list 中\n"
     ]
    }
   ],
   "source": [
    "if ( a in list ):\n",
    "   print (\"1 - 变量 a 在给定的列表中 list 中\")\n",
    "else:\n",
    "   print (\"1 - 变量 a 不在给定的列表中 list 中\")"
   ]
  },
  {
   "cell_type": "code",
   "execution_count": 94,
   "metadata": {},
   "outputs": [
    {
     "name": "stdout",
     "output_type": "stream",
     "text": [
      "2 - 变量 b 不在给定的列表中 list 中\n"
     ]
    }
   ],
   "source": [
    "if ( b not in list ):\n",
    "   print( \"2 - 变量 b 不在给定的列表中 list 中\")\n",
    "else:\n",
    "   print( \"2 - 变量 b 在给定的列表中 list 中\")"
   ]
  },
  {
   "cell_type": "code",
   "execution_count": 95,
   "metadata": {},
   "outputs": [
    {
     "name": "stdout",
     "output_type": "stream",
     "text": [
      "3 - 变量 a 在给定的列表中 list 中\n"
     ]
    }
   ],
   "source": [
    "# 修改变量 a 的值\n",
    "a = 2\n",
    "if ( a in list ):\n",
    "   print( \"3 - 变量 a 在给定的列表中 list 中\")\n",
    "else:\n",
    "   print (\"3 - 变量 a 不在给定的列表中 list 中\")"
   ]
  },
  {
   "cell_type": "markdown",
   "metadata": {},
   "source": [
    "### 成员运算符 is ,is not"
   ]
  },
  {
   "cell_type": "code",
   "execution_count": 97,
   "metadata": {},
   "outputs": [],
   "source": [
    "a = 20\n",
    "b = 20"
   ]
  },
  {
   "cell_type": "code",
   "execution_count": 98,
   "metadata": {},
   "outputs": [
    {
     "name": "stdout",
     "output_type": "stream",
     "text": [
      "1 - a 和 b 有相同的标识\n"
     ]
    }
   ],
   "source": [
    "if ( a is b ):\n",
    "   print( \"1 - a 和 b 有相同的标识\")\n",
    "else:\n",
    "   print (\"1 - a 和 b 没有相同的标识\")"
   ]
  },
  {
   "cell_type": "code",
   "execution_count": 99,
   "metadata": {},
   "outputs": [
    {
     "name": "stdout",
     "output_type": "stream",
     "text": [
      "2 - a 和 b 有相同的标识\n"
     ]
    }
   ],
   "source": [
    "if ( a is not b ):\n",
    "   print( \"2 - a 和 b 没有相同的标识\")\n",
    "else:\n",
    "   print( \"2 - a 和 b 有相同的标识\")"
   ]
  },
  {
   "cell_type": "code",
   "execution_count": 100,
   "metadata": {},
   "outputs": [
    {
     "name": "stdout",
     "output_type": "stream",
     "text": [
      "3 - a 和 b 没有相同的标识\n"
     ]
    }
   ],
   "source": [
    "b = 30\n",
    "if ( a is b ):\n",
    "   print (\"3 - a 和 b 有相同的标识\")\n",
    "else:\n",
    "   print (\"3 - a 和 b 没有相同的标识\")"
   ]
  },
  {
   "cell_type": "code",
   "execution_count": 101,
   "metadata": {},
   "outputs": [
    {
     "name": "stdout",
     "output_type": "stream",
     "text": [
      "4 - a 和 b 没有相同的标识\n"
     ]
    }
   ],
   "source": [
    "if ( a is not b ):\n",
    "   print (\"4 - a 和 b 没有相同的标识\")\n",
    "else:\n",
    "   print (\"4 - a 和 b 有相同的标识\")"
   ]
  },
  {
   "cell_type": "markdown",
   "metadata": {},
   "source": [
    "# ***bytes类型***\n",
    "+ 二进制，01\n",
    "+ 八进制，01234567\n",
    "+ 十进制，0123456789\n",
    "+ 十六进制，0123456789\n",
    "+ ABCDEF\n",
    "+ 二进制到16进制转换\n",
    "+ http://jingyan.baidu.com/album/47a29f24292608c0142399cb.html?picindex=1"
   ]
  },
  {
   "cell_type": "code",
   "execution_count": 102,
   "metadata": {},
   "outputs": [],
   "source": [
    "msg=\"我爱北京天安门\""
   ]
  },
  {
   "cell_type": "code",
   "execution_count": 108,
   "metadata": {},
   "outputs": [
    {
     "name": "stdout",
     "output_type": "stream",
     "text": [
      "我爱北京天安门\n",
      "b'\\xe6\\x88\\x91\\xe7\\x88\\xb1\\xe5\\x8c\\x97\\xe4\\xba\\xac\\xe5\\xa4\\xa9\\xe5\\xae\\x89\\xe9\\x97\\xa8'\n",
      "我爱北京天安门\n"
     ]
    }
   ],
   "source": [
    "print(msg)\n",
    "print(msg.encode(encoding=\"utf-8\"))#将字符串编码为“二进制”\n",
    "print(msg.encode(encoding=\"utf-8\").decode(encoding=\"utf-8\")) #“二进制”解码成“字符串”"
   ]
  },
  {
   "cell_type": "code",
   "execution_count": 111,
   "metadata": {},
   "outputs": [
    {
     "name": "stdout",
     "output_type": "stream",
     "text": [
      "<class 'str'>\n",
      "<class 'bytes'>\n",
      "<class 'str'>\n"
     ]
    }
   ],
   "source": [
    "print(type(msg)) #str\n",
    "print(type(msg.encode(encoding=\"utf-8\"))) #bytes\n",
    "print(type(msg.encode(encoding=\"utf-8\").decode(encoding=\"utf-8\"))) #str"
   ]
  },
  {
   "cell_type": "markdown",
   "metadata": {},
   "source": [
    "### ***集合set()***\n",
    "+ 是一个无序的，不重复的数据组合，它的主要作用如下：\n",
    "+ 1、***去重***，把一个列表变成集合，就自动去重了\n",
    "+ 2、关系测试，测试两组数据之前的交集、差集、并集等关系"
   ]
  },
  {
   "cell_type": "code",
   "execution_count": 133,
   "metadata": {},
   "outputs": [
    {
     "data": {
      "text/plain": [
       "{3, 5, 9, 10}"
      ]
     },
     "execution_count": 133,
     "metadata": {},
     "output_type": "execute_result"
    }
   ],
   "source": [
    "s = set([3, 5, 5,9,9,9,10])  # 创建一个数值集合\n",
    "s"
   ]
  },
  {
   "cell_type": "code",
   "execution_count": 145,
   "metadata": {},
   "outputs": [
    {
     "data": {
      "text/plain": [
       "{'0', '1', '2', '9', 'H', 'e', 'l', 'o'}"
      ]
     },
     "execution_count": 145,
     "metadata": {},
     "output_type": "execute_result"
    }
   ],
   "source": [
    "t = set(\"Hello2019\")  # 创建一个唯一字符的集合\n",
    "t"
   ]
  },
  {
   "cell_type": "code",
   "execution_count": 146,
   "metadata": {},
   "outputs": [
    {
     "data": {
      "text/plain": [
       "{'0', '1', 10, '2', 3, 5, '9', 9, 'H', 'e', 'l', 'o'}"
      ]
     },
     "execution_count": 146,
     "metadata": {},
     "output_type": "execute_result"
    }
   ],
   "source": [
    "a=t | s  # t 和 s的并集\n",
    "a"
   ]
  },
  {
   "cell_type": "code",
   "execution_count": 147,
   "metadata": {},
   "outputs": [
    {
     "data": {
      "text/plain": [
       "set()"
      ]
     },
     "execution_count": 147,
     "metadata": {},
     "output_type": "execute_result"
    }
   ],
   "source": [
    "b=t & s  # t 和 s的交集\n",
    "b"
   ]
  },
  {
   "cell_type": "code",
   "execution_count": 148,
   "metadata": {},
   "outputs": [
    {
     "data": {
      "text/plain": [
       "{'0', '1', '2', '9', 'H', 'e', 'l', 'o'}"
      ]
     },
     "execution_count": 148,
     "metadata": {},
     "output_type": "execute_result"
    }
   ],
   "source": [
    "c = t - s  # 求差集（项在t中，但不在s中）\n",
    "c"
   ]
  },
  {
   "cell_type": "code",
   "execution_count": 149,
   "metadata": {},
   "outputs": [
    {
     "data": {
      "text/plain": [
       "{'0', '1', 10, '2', 3, 5, '9', 9, 'H', 'e', 'l', 'o'}"
      ]
     },
     "execution_count": 149,
     "metadata": {},
     "output_type": "execute_result"
    }
   ],
   "source": [
    "d = t ^ s  # 对称差集（项在t或s中，但不会同时出现在二者中）\n",
    "d"
   ]
  },
  {
   "cell_type": "markdown",
   "metadata": {},
   "source": [
    "### if...else...语句\n",
    "if 条件判断：  \n",
    "----代码块1（可包含多行代码）  \n",
    "else:  \n",
    "----代码块2（可包含多行代码）  \n",
    "执行流程：如果条件判断为真，执行代码块1，否则执行代码块2  \n"
   ]
  },
  {
   "cell_type": "code",
   "execution_count": 152,
   "metadata": {},
   "outputs": [
    {
     "name": "stdout",
     "output_type": "stream",
     "text": [
      "请输入你是否中奖了：否\n",
      "继续过着屌丝的生活\n",
      "我要死2\n",
      "我要财务自由\n"
     ]
    }
   ],
   "source": [
    "content=input(\"请输入你是否中奖了：\")\n",
    "if content==\"是\":  #  = 是赋值  == 是判断\n",
    "    print(\"走向人生巅峰\")\n",
    "    print(\"先买它20栋房子\")\n",
    "else:\n",
    "    print(\"继续过着屌丝的生活\")\n",
    "    print(\"我要死2\")\n",
    "print(\"我要财务自由\")"
   ]
  },
  {
   "cell_type": "code",
   "execution_count": 155,
   "metadata": {},
   "outputs": [
    {
     "name": "stdout",
     "output_type": "stream",
     "text": [
      "11路回家\n",
      "我到家了\n"
     ]
    }
   ],
   "source": [
    "money=88\n",
    "if money>500:\n",
    "    print(\"打车回家\")\n",
    "else:\n",
    "   print('11路回家')\n",
    "print(\"我到家了\")"
   ]
  },
  {
   "cell_type": "markdown",
   "metadata": {},
   "source": [
    "### for循环：\n",
    "i 是临时变量，在0-10以内循环的一组数   \n",
    "for i in range(10):  \n",
    "----print(\"loop\",i)  "
   ]
  },
  {
   "cell_type": "code",
   "execution_count": 156,
   "metadata": {},
   "outputs": [
    {
     "name": "stdout",
     "output_type": "stream",
     "text": [
      "loop 0\n",
      "loop 2\n",
      "loop 4\n",
      "loop 6\n",
      "loop 8\n"
     ]
    }
   ],
   "source": [
    "for i in range(0,10,2):\n",
    "      print(\"loop\",i)"
   ]
  },
  {
   "cell_type": "code",
   "execution_count": 157,
   "metadata": {},
   "outputs": [
    {
     "name": "stdout",
     "output_type": "stream",
     "text": [
      "当前字母 : P\n",
      "当前字母 : y\n",
      "当前字母 : t\n",
      "当前字母 : h\n",
      "当前字母 : o\n",
      "当前字母 : n\n"
     ]
    }
   ],
   "source": [
    "for letter in 'Python':     # 第一个实例\n",
    "   print('当前字母 :', letter)"
   ]
  },
  {
   "cell_type": "code",
   "execution_count": 159,
   "metadata": {},
   "outputs": [
    {
     "name": "stdout",
     "output_type": "stream",
     "text": [
      "当前字母 : banana\n",
      "当前字母 : apple\n",
      "当前字母 : mango\n"
     ]
    }
   ],
   "source": [
    "fruits = ['banana', 'apple',  'mango']\n",
    "for fruit in fruits:        # 第二个实例\n",
    "   print('当前字母 :', fruit)"
   ]
  },
  {
   "cell_type": "code",
   "execution_count": 165,
   "metadata": {},
   "outputs": [
    {
     "name": "stdout",
     "output_type": "stream",
     "text": [
      "{'shanghai': 9800, 'beijing': 11000, 'shenzhen': 8000, 'guagnzhou': 6000}\n",
      "dict_keys(['shanghai', 'beijing', 'shenzhen', 'guagnzhou'])\n",
      "dict_values([9800, 11000, 8000, 6000])\n"
     ]
    }
   ],
   "source": [
    "city = {\n",
    "'shanghai':9800,\n",
    "'beijing':11000,\n",
    "'shenzhen':8000,\n",
    "'guagnzhou':6000,\n",
    "}\n",
    "print(city)\n",
    "print(city.keys())#字典key\n",
    "print(city.values())#字典value"
   ]
  },
  {
   "cell_type": "code",
   "execution_count": 167,
   "metadata": {},
   "outputs": [
    {
     "name": "stdout",
     "output_type": "stream",
     "text": [
      "shanghai 9800\n",
      "beijing 11000\n",
      "shenzhen 8000\n",
      "guagnzhou 6000\n"
     ]
    }
   ],
   "source": [
    "for i in city:print(i,city[i])"
   ]
  },
  {
   "cell_type": "code",
   "execution_count": 173,
   "metadata": {},
   "outputs": [
    {
     "name": "stdout",
     "output_type": "stream",
     "text": [
      "City : shanghai\n",
      "City : beijing\n",
      "City : shenzhen\n",
      "City : guagnzhou\n"
     ]
    }
   ],
   "source": [
    "for k in city.keys():print('City :', k)#求出各城市列表"
   ]
  },
  {
   "cell_type": "code",
   "execution_count": 171,
   "metadata": {},
   "outputs": [
    {
     "name": "stdout",
     "output_type": "stream",
     "text": [
      "cityAvgSalary: 9800\n",
      "cityAvgSalary: 11000\n",
      "cityAvgSalary: 8000\n",
      "cityAvgSalary: 6000\n"
     ]
    }
   ],
   "source": [
    "for k in city.keys():print('cityAvgSalary:', city[k]) #求出各城市平均工资"
   ]
  },
  {
   "cell_type": "code",
   "execution_count": 172,
   "metadata": {
    "collapsed": true
   },
   "outputs": [
    {
     "name": "stdout",
     "output_type": "stream",
     "text": [
      "AvgSalary2: 9800\n",
      "AvgSalary2: 11000\n",
      "AvgSalary2: 8000\n",
      "AvgSalary2: 6000\n"
     ]
    }
   ],
   "source": [
    "for v in city.values(): print('AvgSalary2:', v)#求出各城市平均工资"
   ]
  },
  {
   "cell_type": "markdown",
   "metadata": {},
   "source": [
    "### input \n",
    "变量（名）=input(\"提示语\")"
   ]
  },
  {
   "cell_type": "code",
   "execution_count": 177,
   "metadata": {},
   "outputs": [
    {
     "name": "stdout",
     "output_type": "stream",
     "text": [
      "你吃了吗？饿了\n",
      "我们收到用户反馈:饿了\n"
     ]
    }
   ],
   "source": [
    "#语法： 变量（名）=input(\"提示语\")\n",
    "content=input(\"你吃了吗？\")\n",
    "print(\"我们收到用户反馈:\"+content)"
   ]
  },
  {
   "cell_type": "code",
   "execution_count": 182,
   "metadata": {},
   "outputs": [
    {
     "name": "stdout",
     "output_type": "stream",
     "text": [
      "请输入a:8\n",
      "请输入b:6\n",
      "<class 'str'> <class 'str'>\n",
      "14 86\n"
     ]
    }
   ],
   "source": [
    "#让用户输入a,让用户输入b,计算机计算a+b的结果\n",
    "a=input(\"请输入a:\")#input接收到的内容是str\n",
    "b=input(\"请输入b:\")#input接收到的内容是str,如果要进行数字运算，必须先int转换\n",
    "print(type(a),type(b)) \n",
    "c=int(a)+int(b)\n",
    "d=a+b #d=a&b（输入的数字合并连接）\n",
    "print(c,d) #c=a+b(输入的数字相加),"
   ]
  },
  {
   "cell_type": "code",
   "execution_count": 181,
   "metadata": {},
   "outputs": [
    {
     "data": {
      "text/plain": [
       "str"
      ]
     },
     "execution_count": 181,
     "metadata": {},
     "output_type": "execute_result"
    }
   ],
   "source": [
    "type(a)"
   ]
  },
  {
   "cell_type": "code",
   "execution_count": 23,
   "metadata": {},
   "outputs": [],
   "source": [
    "import getpass"
   ]
  },
  {
   "cell_type": "code",
   "execution_count": 1,
   "metadata": {},
   "outputs": [],
   "source": [
    "#如果想要不可见，需要利用getpass 模块中的 getpass方法\n",
    "import getpass"
   ]
  },
  {
   "cell_type": "code",
   "execution_count": 2,
   "metadata": {
    "scrolled": true
   },
   "outputs": [
    {
     "name": "stdout",
     "output_type": "stream",
     "text": [
      "请输入密码：········\n"
     ]
    }
   ],
   "source": [
    "# 将用户输入的内容赋值给 name 变量\n",
    "pwd = getpass.getpass(\"请输入密码：\")"
   ]
  },
  {
   "cell_type": "code",
   "execution_count": 3,
   "metadata": {},
   "outputs": [
    {
     "name": "stdout",
     "output_type": "stream",
     "text": [
      "abcd\n"
     ]
    }
   ],
   "source": [
    "print(pwd)"
   ]
  },
  {
   "cell_type": "code",
   "execution_count": 20,
   "metadata": {},
   "outputs": [],
   "source": [
    "_username=\"Flora\"\n",
    "_password='abc123'"
   ]
  },
  {
   "cell_type": "code",
   "execution_count": 29,
   "metadata": {},
   "outputs": [
    {
     "name": "stdout",
     "output_type": "stream",
     "text": [
      "username:Flora\n"
     ]
    }
   ],
   "source": [
    "username=input(\"username:\")"
   ]
  },
  {
   "cell_type": "code",
   "execution_count": 30,
   "metadata": {},
   "outputs": [
    {
     "name": "stdout",
     "output_type": "stream",
     "text": [
      "password:········\n"
     ]
    }
   ],
   "source": [
    "password=getpass.getpass(\"password:\")"
   ]
  },
  {
   "cell_type": "code",
   "execution_count": 31,
   "metadata": {},
   "outputs": [
    {
     "name": "stdout",
     "output_type": "stream",
     "text": [
      "Flora abc123\n"
     ]
    }
   ],
   "source": [
    "print(username,password)"
   ]
  },
  {
   "cell_type": "code",
   "execution_count": 32,
   "metadata": {},
   "outputs": [
    {
     "name": "stdout",
     "output_type": "stream",
     "text": [
      "welcome user Flora login ...\n"
     ]
    }
   ],
   "source": [
    "if _username == username and _password == password:\n",
    "    print(\"welcome user {name} login ...\".format(name=username))\n",
    "else:\n",
    "    print(\"invalid username or password! \")"
   ]
  },
  {
   "cell_type": "code",
   "execution_count": null,
   "metadata": {},
   "outputs": [],
   "source": []
  },
  {
   "cell_type": "code",
   "execution_count": null,
   "metadata": {},
   "outputs": [],
   "source": []
  }
 ],
 "metadata": {
  "kernelspec": {
   "display_name": "Python 3",
   "language": "python",
   "name": "python3"
  },
  "language_info": {
   "codemirror_mode": {
    "name": "ipython",
    "version": 3
   },
   "file_extension": ".py",
   "mimetype": "text/x-python",
   "name": "python",
   "nbconvert_exporter": "python",
   "pygments_lexer": "ipython3",
   "version": "3.7.4"
  }
 },
 "nbformat": 4,
 "nbformat_minor": 2
}
