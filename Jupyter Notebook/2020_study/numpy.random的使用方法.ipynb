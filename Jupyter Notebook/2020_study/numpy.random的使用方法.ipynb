{
 "cells": [
  {
   "cell_type": "code",
   "execution_count": 2,
   "metadata": {},
   "outputs": [],
   "source": [
    "import numpy as np"
   ]
  },
  {
   "cell_type": "markdown",
   "metadata": {},
   "source": [
    "***rand***\n",
    "+ 函数根据给定维度生成[0,1)之间的ndarray，包含0，不包含1  \n",
    "**np.random.rand(d0,d1,...,dn)**"
   ]
  },
  {
   "cell_type": "code",
   "execution_count": 25,
   "metadata": {},
   "outputs": [
    {
     "data": {
      "text/plain": [
       "array([[0.15596054, 0.24048901, 0.22193329],\n",
       "       [0.64167133, 0.84586554, 0.6015521 ],\n",
       "       [0.97300566, 0.90551095, 0.34427442],\n",
       "       [0.48452389, 0.73956943, 0.95898766]])"
      ]
     },
     "execution_count": 25,
     "metadata": {},
     "output_type": "execute_result"
    }
   ],
   "source": [
    "np.random.rand(4,3)#4行3列"
   ]
  },
  {
   "cell_type": "code",
   "execution_count": 26,
   "metadata": {},
   "outputs": [
    {
     "data": {
      "text/plain": [
       "array([[[0.53136492, 0.34025366],\n",
       "        [0.04661782, 0.01419801],\n",
       "        [0.66271677, 0.95936047]],\n",
       "\n",
       "       [[0.08790896, 0.04494847],\n",
       "        [0.50360733, 0.92870405],\n",
       "        [0.91158553, 0.00465134]],\n",
       "\n",
       "       [[0.91774195, 0.31788384],\n",
       "        [0.98540632, 0.75084694],\n",
       "        [0.06228444, 0.52640616]],\n",
       "\n",
       "       [[0.64221379, 0.77166285],\n",
       "        [0.27689879, 0.53643654],\n",
       "        [0.95344001, 0.00268358]]])"
      ]
     },
     "execution_count": 26,
     "metadata": {},
     "output_type": "execute_result"
    }
   ],
   "source": [
    "np.random.rand(4,3,2) "
   ]
  },
  {
   "cell_type": "markdown",
   "metadata": {},
   "source": [
    "**randn**\n",
    "+ 函数返回一个或一组样本，具有标准正态分布。\n",
    "+ 又称为u分布，是以0为均值、以1为标准差的正态分布，记为N（0，1）\n",
    "**numpy.random.randn(d0,d1,...,dn)**"
   ]
  },
  {
   "cell_type": "code",
   "execution_count": 27,
   "metadata": {},
   "outputs": [
    {
     "data": {
      "text/plain": [
       "array([[-1.23743459, -0.14931022, -1.88904966],\n",
       "       [ 0.87447528, -0.26048506, -0.98233603],\n",
       "       [ 0.58241967, -0.98838098, -1.23999416],\n",
       "       [ 0.52484893, -2.37945484, -0.57486084]])"
      ]
     },
     "execution_count": 27,
     "metadata": {},
     "output_type": "execute_result"
    }
   ],
   "source": [
    "np.random.randn(4,3)"
   ]
  },
  {
   "cell_type": "code",
   "execution_count": 28,
   "metadata": {},
   "outputs": [
    {
     "data": {
      "text/plain": [
       "array([[[ 0.54070296,  0.22092929],\n",
       "        [ 1.12908582, -0.57086721],\n",
       "        [ 0.09487411,  0.08108466]],\n",
       "\n",
       "       [[-0.62954366, -0.49202731],\n",
       "        [-0.61977672, -0.85474549],\n",
       "        [ 1.89935785,  0.96134264]],\n",
       "\n",
       "       [[ 0.20677537, -1.57733052],\n",
       "        [-3.52097471,  0.60829685],\n",
       "        [-0.90880824,  0.74044684]],\n",
       "\n",
       "       [[ 1.07010024,  0.58301438],\n",
       "        [-0.07699205,  1.00651424],\n",
       "        [-0.81975183,  0.18334463]]])"
      ]
     },
     "execution_count": 28,
     "metadata": {},
     "output_type": "execute_result"
    }
   ],
   "source": [
    "np.random.randn(4,3,2)"
   ]
  },
  {
   "cell_type": "markdown",
   "metadata": {},
   "source": [
    "***randint***\n",
    "+ 返回随机整数，范围区间为[low,high），包含low，不包含high      \n",
    "**numpy.random.randint(low, high=None, size=None, dtype='l')**"
   ]
  },
  {
   "cell_type": "code",
   "execution_count": 29,
   "metadata": {},
   "outputs": [
    {
     "data": {
      "text/plain": [
       "array([-2,  2,  4,  1,  2, -3, -1, -3, -1, -4])"
      ]
     },
     "execution_count": 29,
     "metadata": {},
     "output_type": "execute_result"
    }
   ],
   "source": [
    "np.random.randint(-5,5,10)"
   ]
  },
  {
   "cell_type": "code",
   "execution_count": 30,
   "metadata": {},
   "outputs": [
    {
     "data": {
      "text/plain": [
       "array([0, 3, 4, 2, 3, 3, 4, 2, 0, 2])"
      ]
     },
     "execution_count": 30,
     "metadata": {},
     "output_type": "execute_result"
    }
   ],
   "source": [
    "np.random.randint(5,size=10)"
   ]
  },
  {
   "cell_type": "code",
   "execution_count": 31,
   "metadata": {},
   "outputs": [
    {
     "data": {
      "text/plain": [
       "array([[4, 3, 4],\n",
       "       [3, 4, 4]])"
      ]
     },
     "execution_count": 31,
     "metadata": {},
     "output_type": "execute_result"
    }
   ],
   "source": [
    "np.random.randint(1,5,(2,3))"
   ]
  },
  {
   "cell_type": "code",
   "execution_count": null,
   "metadata": {},
   "outputs": [],
   "source": []
  },
  {
   "cell_type": "code",
   "execution_count": null,
   "metadata": {},
   "outputs": [],
   "source": []
  },
  {
   "cell_type": "code",
   "execution_count": null,
   "metadata": {},
   "outputs": [],
   "source": []
  },
  {
   "cell_type": "markdown",
   "metadata": {},
   "source": [
    "***random***\n",
    "+ 生成[0,1)之间的浮点数   \n",
    "**numpy.random.random(size=None)**"
   ]
  },
  {
   "cell_type": "code",
   "execution_count": 33,
   "metadata": {},
   "outputs": [
    {
     "data": {
      "text/plain": [
       "array([0.26047477, 0.56904326, 0.99176198, 0.56307434, 0.60545313])"
      ]
     },
     "execution_count": 33,
     "metadata": {},
     "output_type": "execute_result"
    }
   ],
   "source": [
    "np.random.random(5)"
   ]
  },
  {
   "cell_type": "code",
   "execution_count": 34,
   "metadata": {},
   "outputs": [
    {
     "data": {
      "text/plain": [
       "array([0.72000772, 0.27265563, 0.18183846, 0.72673465, 0.2675694 ,\n",
       "       0.76080078, 0.54132595])"
      ]
     },
     "execution_count": 34,
     "metadata": {},
     "output_type": "execute_result"
    }
   ],
   "source": [
    "np.random.random(7)"
   ]
  },
  {
   "cell_type": "code",
   "execution_count": 35,
   "metadata": {},
   "outputs": [
    {
     "data": {
      "text/plain": [
       "array([[0.46329047, 0.22515304, 0.86615278],\n",
       "       [0.99916963, 0.4751111 , 0.07289909],\n",
       "       [0.3945508 , 0.42798947, 0.6523796 ],\n",
       "       [0.23895936, 0.31430151, 0.70448796]])"
      ]
     },
     "execution_count": 35,
     "metadata": {},
     "output_type": "execute_result"
    }
   ],
   "source": [
    "np.random.random((4,3))"
   ]
  },
  {
   "cell_type": "code",
   "execution_count": 37,
   "metadata": {},
   "outputs": [
    {
     "data": {
      "text/plain": [
       "array([[[0.2761863 , 0.23437995],\n",
       "        [0.62198679, 0.58565042],\n",
       "        [0.79727458, 0.60008702]],\n",
       "\n",
       "       [[0.52221922, 0.98327898],\n",
       "        [0.48428966, 0.43524163],\n",
       "        [0.50633921, 0.47717178]],\n",
       "\n",
       "       [[0.59523816, 0.96813489],\n",
       "        [0.4169738 , 0.14480161],\n",
       "        [0.80030531, 0.67932694]],\n",
       "\n",
       "       [[0.80456228, 0.88877751],\n",
       "        [0.49527151, 0.55452783],\n",
       "        [0.45793591, 0.25102122]]])"
      ]
     },
     "execution_count": 37,
     "metadata": {},
     "output_type": "execute_result"
    }
   ],
   "source": [
    "np.random.random((4,3,2))"
   ]
  },
  {
   "cell_type": "code",
   "execution_count": 38,
   "metadata": {},
   "outputs": [
    {
     "data": {
      "text/plain": [
       "array([ 1.80833824, -0.31132421,  0.0063301 , -0.28081819, -1.10473646,\n",
       "        1.29812891, -0.81523288, -0.62980899, -0.77670997,  0.20119664,\n",
       "        0.36463693, -1.09984391, -0.90299946,  0.0460886 , -0.25604511,\n",
       "       -0.82092956, -0.94469374, -1.3534692 ,  0.88872753, -0.13808036,\n",
       "        0.94669934,  0.13835769, -1.57424755,  0.05338938, -0.41836446,\n",
       "        2.14411867,  0.03883285,  0.09129026, -1.60038123,  1.58557225])"
      ]
     },
     "execution_count": 38,
     "metadata": {},
     "output_type": "execute_result"
    }
   ],
   "source": [
    "np.random.normal(size=30)"
   ]
  },
  {
   "cell_type": "markdown",
   "metadata": {},
   "source": [
    "***choice***\n",
    "+ 从给定的一维数组中生成随机数,参数： a为一维数组类似数据或整数；size为数组维度；p为数组中的数据出现的概率   \n",
    "**numpy.random.choice(a, size=None, replace=True, p=None)**"
   ]
  },
  {
   "cell_type": "code",
   "execution_count": 49,
   "metadata": {},
   "outputs": [
    {
     "data": {
      "text/plain": [
       "array([0, 8, 3, 1, 6])"
      ]
     },
     "execution_count": 49,
     "metadata": {},
     "output_type": "execute_result"
    }
   ],
   "source": [
    "np.random.choice(9,5)"
   ]
  },
  {
   "cell_type": "code",
   "execution_count": 50,
   "metadata": {},
   "outputs": [
    {
     "data": {
      "text/plain": [
       "array([4, 0, 3])"
      ]
     },
     "execution_count": 50,
     "metadata": {},
     "output_type": "execute_result"
    }
   ],
   "source": [
    "np.random.choice(list(range(5)),3)"
   ]
  },
  {
   "cell_type": "code",
   "execution_count": 51,
   "metadata": {},
   "outputs": [
    {
     "data": {
      "text/plain": [
       "array([[8, 6],\n",
       "       [3, 9],\n",
       "       [4, 2],\n",
       "       [3, 7],\n",
       "       [4, 4]])"
      ]
     },
     "execution_count": 51,
     "metadata": {},
     "output_type": "execute_result"
    }
   ],
   "source": [
    "np.random.choice(list(range(10)),(5,2))"
   ]
  },
  {
   "cell_type": "code",
   "execution_count": null,
   "metadata": {},
   "outputs": [],
   "source": []
  },
  {
   "cell_type": "code",
   "execution_count": null,
   "metadata": {},
   "outputs": [],
   "source": []
  },
  {
   "cell_type": "markdown",
   "metadata": {},
   "source": [
    "***seed***  \n",
    "+ np.random.seed()的作用：使得随机数据可预测。  \n",
    "+ 当我们设置相同的seed，每次生成的随机数相同。如果不设置seed，则每次会生成不同的随机数  \n",
    "**numpy.random.seed()**"
   ]
  },
  {
   "cell_type": "code",
   "execution_count": 73,
   "metadata": {},
   "outputs": [
    {
     "data": {
      "text/plain": [
       "array([0.64589411, 0.43758721, 0.891773  , 0.96366276, 0.38344152])"
      ]
     },
     "execution_count": 73,
     "metadata": {},
     "output_type": "execute_result"
    }
   ],
   "source": [
    "np.random.rand(5) #不指定seed时，每次结果会随机变化"
   ]
  },
  {
   "cell_type": "code",
   "execution_count": 83,
   "metadata": {},
   "outputs": [
    {
     "data": {
      "text/plain": [
       "array([0.5488135 , 0.71518937, 0.60276338, 0.54488318, 0.4236548 ])"
      ]
     },
     "execution_count": 83,
     "metadata": {},
     "output_type": "execute_result"
    }
   ],
   "source": [
    "np.random.seed(0)\n",
    "np.random.rand(5)"
   ]
  },
  {
   "cell_type": "code",
   "execution_count": 86,
   "metadata": {},
   "outputs": [
    {
     "data": {
      "text/plain": [
       "array([0.22571689, 0.94523151, 0.13696014, 0.77301404, 0.86205172])"
      ]
     },
     "execution_count": 86,
     "metadata": {},
     "output_type": "execute_result"
    }
   ],
   "source": [
    "np.random.seed(1788)\n",
    "np.random.rand(5) #seed值指定不一样时，固定的值也会发生变化"
   ]
  },
  {
   "cell_type": "code",
   "execution_count": null,
   "metadata": {},
   "outputs": [],
   "source": []
  },
  {
   "cell_type": "code",
   "execution_count": null,
   "metadata": {},
   "outputs": [],
   "source": []
  }
 ],
 "metadata": {
  "kernelspec": {
   "display_name": "Python 3",
   "language": "python",
   "name": "python3"
  },
  "language_info": {
   "codemirror_mode": {
    "name": "ipython",
    "version": 3
   },
   "file_extension": ".py",
   "mimetype": "text/x-python",
   "name": "python",
   "nbconvert_exporter": "python",
   "pygments_lexer": "ipython3",
   "version": "3.7.3"
  }
 },
 "nbformat": 4,
 "nbformat_minor": 4
}
