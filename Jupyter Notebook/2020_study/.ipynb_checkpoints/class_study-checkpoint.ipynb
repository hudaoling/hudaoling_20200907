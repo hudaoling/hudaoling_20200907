{
 "cells": [
  {
   "cell_type": "code",
   "execution_count": 31,
   "metadata": {},
   "outputs": [],
   "source": [
    "import requests\n",
    "import pandas as pd\n",
    "import numpy as np\n",
    "import requests\n",
    "import openpyxl\n",
    "# from pymongo import MongoClient\n",
    "pd.set_option('display.width',2000)\n",
    "pd.set_option('display.max_columns',None)\n",
    "pd.set_option('display.max_rows',None)"
   ]
  },
  {
   "cell_type": "code",
   "execution_count": 2,
   "metadata": {},
   "outputs": [],
   "source": [
    "class Dog:\n",
    "    def __init__(self,name):\n",
    "        self.name=name\n",
    "#init传参数使用\n",
    "    def bulk(self):\n",
    "        print(\"%s:wang wang wang!\" % self.name)"
   ]
  },
  {
   "cell_type": "code",
   "execution_count": 3,
   "metadata": {},
   "outputs": [
    {
     "name": "stdout",
     "output_type": "stream",
     "text": [
      "jinmao:wang wang wang!\n",
      "muyangquan:wang wang wang!\n",
      "huanggou:wang wang wang!\n"
     ]
    }
   ],
   "source": [
    "d1=Dog(\"jinmao\")\n",
    "d2=Dog(\"muyangquan\")\n",
    "d3=Dog(\"huanggou\")\n",
    "d1.bulk()\n",
    "d2.bulk()\n",
    "d3.bulk()"
   ]
  },
  {
   "cell_type": "code",
   "execution_count": 4,
   "metadata": {},
   "outputs": [
    {
     "data": {
      "text/plain": [
       "('jinmao',\n",
       " <bound method Dog.bulk of <__main__.Dog object at 0x000002566F614278>>)"
      ]
     },
     "execution_count": 4,
     "metadata": {},
     "output_type": "execute_result"
    }
   ],
   "source": [
    "d1.name,d1.bulk"
   ]
  },
  {
   "cell_type": "code",
   "execution_count": 5,
   "metadata": {},
   "outputs": [
    {
     "name": "stdout",
     "output_type": "stream",
     "text": [
      "中国\n"
     ]
    }
   ],
   "source": [
    "class Person:\n",
    "    cn=\"中国\"\n",
    "    def __init__(self,name,age,addr):\n",
    "        self.name=name\n",
    "        self.age=age\n",
    "        self.addr=addr\n",
    "p1=Person(\"alex\",\"33\",\"shanghai\")\n",
    "print(p1.cn)#按类变量cn=\"中国\",因为类本身没有定义cn这个变量。"
   ]
  },
  {
   "cell_type": "code",
   "execution_count": 6,
   "metadata": {},
   "outputs": [
    {
     "name": "stdout",
     "output_type": "stream",
     "text": [
      "china\n"
     ]
    }
   ],
   "source": [
    "class Person:\n",
    "    cn=\"中国\"\n",
    "    def __init__(self,name,age,addr,cn=\"china\"):\n",
    "        self.name=name\n",
    "        self.cn=cn\n",
    "        self.age=age\n",
    "        self.addr=addr\n",
    "p1=Person(\"alex\",\"33\",\"shanghai\")\n",
    "print(p1.cn)#按实例变量cn=\"china\"，先从类本身内部变量开始读"
   ]
  },
  {
   "cell_type": "code",
   "execution_count": 7,
   "metadata": {},
   "outputs": [
    {
     "name": "stdout",
     "output_type": "stream",
     "text": [
      "hudaoling\n"
     ]
    },
    {
     "data": {
      "text/plain": [
       "{'a': 5, 'b': 6, 'c': {'name': 'hudaoling'}, 'd': 5}"
      ]
     },
     "execution_count": 7,
     "metadata": {},
     "output_type": "execute_result"
    }
   ],
   "source": [
    "a={'a':5,'b':6,'c':{'name':'hudaoling'},'d':5}\n",
    "t=a['c'].get('name')\n",
    "print(t)\n",
    "type(t)\n",
    "a"
   ]
  },
  {
   "cell_type": "code",
   "execution_count": 8,
   "metadata": {},
   "outputs": [
    {
     "name": "stdout",
     "output_type": "stream",
     "text": [
      "<class 'str'> hudaoling\n"
     ]
    }
   ],
   "source": [
    "y=a['c']['name']\n",
    "print(type(y),y)"
   ]
  },
  {
   "cell_type": "code",
   "execution_count": 9,
   "metadata": {},
   "outputs": [
    {
     "data": {
      "text/plain": [
       "['a', 'b', 'c', 'd']"
      ]
     },
     "execution_count": 9,
     "metadata": {},
     "output_type": "execute_result"
    }
   ],
   "source": [
    "list(a.keys())\n",
    "# type(a.keys())"
   ]
  },
  {
   "cell_type": "code",
   "execution_count": 10,
   "metadata": {},
   "outputs": [
    {
     "data": {
      "text/plain": [
       "'hudaoling'"
      ]
     },
     "execution_count": 10,
     "metadata": {},
     "output_type": "execute_result"
    }
   ],
   "source": [
    "a['c']['name']"
   ]
  },
  {
   "cell_type": "code",
   "execution_count": 11,
   "metadata": {},
   "outputs": [
    {
     "ename": "NameError",
     "evalue": "name 'hudaoling' is not defined",
     "output_type": "error",
     "traceback": [
      "\u001b[1;31m---------------------------------------------------------------------------\u001b[0m",
      "\u001b[1;31mNameError\u001b[0m                                 Traceback (most recent call last)",
      "\u001b[1;32m<ipython-input-11-d15c5bc02604>\u001b[0m in \u001b[0;36m<module>\u001b[1;34m\u001b[0m\n\u001b[1;32m----> 1\u001b[1;33m \u001b[0mprint\u001b[0m\u001b[1;33m(\u001b[0m\u001b[0ma\u001b[0m\u001b[1;33m.\u001b[0m\u001b[0mget\u001b[0m\u001b[1;33m(\u001b[0m\u001b[0mhudaoling\u001b[0m\u001b[1;33m)\u001b[0m\u001b[1;33m)\u001b[0m\u001b[1;33m\u001b[0m\u001b[1;33m\u001b[0m\u001b[0m\n\u001b[0m",
      "\u001b[1;31mNameError\u001b[0m: name 'hudaoling' is not defined"
     ]
    }
   ],
   "source": [
    "print(a.get(hudaoling))"
   ]
  },
  {
   "cell_type": "code",
   "execution_count": 12,
   "metadata": {},
   "outputs": [
    {
     "data": {
      "text/plain": [
       "'hudaoling'"
      ]
     },
     "execution_count": 12,
     "metadata": {},
     "output_type": "execute_result"
    }
   ],
   "source": [
    "a['c'].get('name')"
   ]
  },
  {
   "cell_type": "code",
   "execution_count": 13,
   "metadata": {},
   "outputs": [
    {
     "data": {
      "text/plain": [
       "{'a': 5, 'b': 6, 'c': {'name': 'hudaoling'}, 'd': 5}"
      ]
     },
     "execution_count": 13,
     "metadata": {},
     "output_type": "execute_result"
    }
   ],
   "source": [
    "a"
   ]
  },
  {
   "cell_type": "code",
   "execution_count": 14,
   "metadata": {},
   "outputs": [
    {
     "data": {
      "text/plain": [
       "{'a': 55, 'b': 6, 'c': {'name': 'hudaoling'}, 'd': 55}"
      ]
     },
     "execution_count": 14,
     "metadata": {},
     "output_type": "execute_result"
    }
   ],
   "source": [
    "for key,value in a.items():\n",
    "    if value==5:\n",
    "        a[key]=55\n",
    "a"
   ]
  },
  {
   "cell_type": "code",
   "execution_count": 15,
   "metadata": {},
   "outputs": [
    {
     "data": {
      "text/html": [
       "<div>\n",
       "<style scoped>\n",
       "    .dataframe tbody tr th:only-of-type {\n",
       "        vertical-align: middle;\n",
       "    }\n",
       "\n",
       "    .dataframe tbody tr th {\n",
       "        vertical-align: top;\n",
       "    }\n",
       "\n",
       "    .dataframe thead th {\n",
       "        text-align: right;\n",
       "    }\n",
       "</style>\n",
       "<table border=\"1\" class=\"dataframe\">\n",
       "  <thead>\n",
       "    <tr style=\"text-align: right;\">\n",
       "      <th></th>\n",
       "      <th>a</th>\n",
       "      <th>b</th>\n",
       "      <th>c</th>\n",
       "      <th>d</th>\n",
       "    </tr>\n",
       "  </thead>\n",
       "  <tbody>\n",
       "    <tr>\n",
       "      <th>name</th>\n",
       "      <td>55</td>\n",
       "      <td>6</td>\n",
       "      <td>hudaoling</td>\n",
       "      <td>55</td>\n",
       "    </tr>\n",
       "  </tbody>\n",
       "</table>\n",
       "</div>"
      ],
      "text/plain": [
       "       a  b          c   d\n",
       "name  55  6  hudaoling  55"
      ]
     },
     "execution_count": 15,
     "metadata": {},
     "output_type": "execute_result"
    }
   ],
   "source": [
    "df=pd.DataFrame.from_dict(a,orient='columns')  #orient='index'，是将字典的key设置为索引index\n",
    "df"
   ]
  },
  {
   "cell_type": "markdown",
   "metadata": {},
   "source": [
    "# 嵌套字段转换成dataframe"
   ]
  },
  {
   "cell_type": "code",
   "execution_count": 16,
   "metadata": {},
   "outputs": [
    {
     "data": {
      "text/plain": [
       "{808: [['a', 5.4, 'b'], ['c', 4.1, 'b'], ['d', 3.7, 'f']]}"
      ]
     },
     "execution_count": 16,
     "metadata": {},
     "output_type": "execute_result"
    }
   ],
   "source": [
    "dict1={808: [['a', 5.4, 'b'],\n",
    "  ['c', 4.1 , 'b'],\n",
    "  ['d', 3.7 , 'f']]} \n",
    "dict1"
   ]
  },
  {
   "cell_type": "code",
   "execution_count": 17,
   "metadata": {},
   "outputs": [
    {
     "data": {
      "text/html": [
       "<div>\n",
       "<style scoped>\n",
       "    .dataframe tbody tr th:only-of-type {\n",
       "        vertical-align: middle;\n",
       "    }\n",
       "\n",
       "    .dataframe tbody tr th {\n",
       "        vertical-align: top;\n",
       "    }\n",
       "\n",
       "    .dataframe thead th {\n",
       "        text-align: right;\n",
       "    }\n",
       "</style>\n",
       "<table border=\"1\" class=\"dataframe\">\n",
       "  <thead>\n",
       "    <tr style=\"text-align: right;\">\n",
       "      <th></th>\n",
       "      <th>0</th>\n",
       "      <th>1</th>\n",
       "      <th>2</th>\n",
       "    </tr>\n",
       "  </thead>\n",
       "  <tbody>\n",
       "    <tr>\n",
       "      <th>808</th>\n",
       "      <td>[a, 5.4, b]</td>\n",
       "      <td>[c, 4.1, b]</td>\n",
       "      <td>[d, 3.7, f]</td>\n",
       "    </tr>\n",
       "  </tbody>\n",
       "</table>\n",
       "</div>"
      ],
      "text/plain": [
       "               0            1            2\n",
       "808  [a, 5.4, b]  [c, 4.1, b]  [d, 3.7, f]"
      ]
     },
     "execution_count": 17,
     "metadata": {},
     "output_type": "execute_result"
    }
   ],
   "source": [
    "df=pd.DataFrame.from_dict(dict1,orient='index')\n",
    "df  "
   ]
  },
  {
   "cell_type": "code",
   "execution_count": 18,
   "metadata": {},
   "outputs": [
    {
     "data": {
      "text/plain": [
       "{808:   userid  score related\n",
       " 0      a    5.4       b\n",
       " 1      c    4.1       b\n",
       " 2      d    3.7       f}"
      ]
     },
     "execution_count": 18,
     "metadata": {},
     "output_type": "execute_result"
    }
   ],
   "source": [
    "columns = ['userid', 'score', 'related']\n",
    "\n",
    "df_dict = {k : pd.DataFrame(v, columns=columns) for k, v in dict1.items()}\n",
    "df_dict\n",
    "# df = (pd.concat(df_dict)\n",
    "#         .reset_index(level=1, drop=True)\n",
    "#         .rename_axis('memberid')\n",
    "#         .reset_index()\n",
    "# )\n",
    "# df"
   ]
  },
  {
   "cell_type": "code",
   "execution_count": 19,
   "metadata": {},
   "outputs": [
    {
     "data": {
      "text/html": [
       "<div>\n",
       "<style scoped>\n",
       "    .dataframe tbody tr th:only-of-type {\n",
       "        vertical-align: middle;\n",
       "    }\n",
       "\n",
       "    .dataframe tbody tr th {\n",
       "        vertical-align: top;\n",
       "    }\n",
       "\n",
       "    .dataframe thead th {\n",
       "        text-align: right;\n",
       "    }\n",
       "</style>\n",
       "<table border=\"1\" class=\"dataframe\">\n",
       "  <thead>\n",
       "    <tr style=\"text-align: right;\">\n",
       "      <th></th>\n",
       "      <th>memberid</th>\n",
       "      <th>userid</th>\n",
       "      <th>score</th>\n",
       "      <th>related</th>\n",
       "    </tr>\n",
       "  </thead>\n",
       "  <tbody>\n",
       "    <tr>\n",
       "      <th>0</th>\n",
       "      <td>808</td>\n",
       "      <td>a</td>\n",
       "      <td>5.4</td>\n",
       "      <td>b</td>\n",
       "    </tr>\n",
       "    <tr>\n",
       "      <th>1</th>\n",
       "      <td>808</td>\n",
       "      <td>c</td>\n",
       "      <td>4.1</td>\n",
       "      <td>b</td>\n",
       "    </tr>\n",
       "    <tr>\n",
       "      <th>2</th>\n",
       "      <td>808</td>\n",
       "      <td>d</td>\n",
       "      <td>3.7</td>\n",
       "      <td>f</td>\n",
       "    </tr>\n",
       "  </tbody>\n",
       "</table>\n",
       "</div>"
      ],
      "text/plain": [
       "   memberid userid  score related\n",
       "0       808      a    5.4       b\n",
       "1       808      c    4.1       b\n",
       "2       808      d    3.7       f"
      ]
     },
     "execution_count": 19,
     "metadata": {},
     "output_type": "execute_result"
    }
   ],
   "source": [
    "df = pd.concat([\n",
    "       pd.DataFrame(v, columns=columns, index=np.repeat(k, len(v))) \n",
    "       for k, v in dict1.items()\n",
    "  ]\n",
    ").rename_axis('memberid').reset_index()\n",
    "df"
   ]
  },
  {
   "cell_type": "code",
   "execution_count": 20,
   "metadata": {},
   "outputs": [],
   "source": [
    "import requests\n",
    "import pandas as pd\n",
    "# from pymongo import MongoClient\n",
    "pd.set_option('display.width',2000)\n",
    "pd.set_option('display.max_columns',None)\n",
    "pd.set_option('display.max_rows',None)"
   ]
  },
  {
   "cell_type": "code",
   "execution_count": 21,
   "metadata": {},
   "outputs": [
    {
     "name": "stdout",
     "output_type": "stream",
     "text": [
      "正在爬取城市:上海的数据!\n"
     ]
    }
   ],
   "source": [
    "city = '上海'\n",
    "print('正在爬取城市:{}的数据!'.format(city))\n",
    "\n",
    "#一、 创建请求response\n",
    "res = requests.get('https://travelsearch.fliggy.com/async/queryItemResult.do?searchType='\n",
    "                   'product&keyword={}&category=SCENIC&pagenum=1'.format(city))  #&category=SCENIC&pagenum=1是指page1(第一页)\n",
    "# print(response.text)  #可以打印出来\n",
    "\n",
    "#二、返回请求,json格式\n",
    "data = res.json()"
   ]
  },
  {
   "cell_type": "code",
   "execution_count": 22,
   "metadata": {},
   "outputs": [
    {
     "name": "stdout",
     "output_type": "stream",
     "text": [
      "{'success': True, 'data': {'success': True, 'root': 'pageCoreData', 'structure': {'pageProductsblock': {'children': ['pageLeft', 'pageRight'], 'type': 'commonBlock', 'data': {'className': 'page-products-block'}}, 'pageCoreData': {'type': 'pageCoreData', 'children': ['mainsearch', 'itemTypes', 'itemNavBar', 'pageFilter', 'itemGuessLike', 'itemSort', 'pageProductsblock', '_gs_pop_url'], 'data': {}}, 'pageRight': {'type': 'commonBlock', 'children': ['insureBlock', 'searchRecommend'], 'data': {'className': 'page-products-block-right'}}, 'pageLeft': {'type': 'commonBlock', 'children': ['itemProducts', 'itemEmptyBlock', 'itemPagenum'], 'data': {'className': 'page-products-block-left'}}}, 'data': {'mainsearch': {'data': {'keyword': '上海', 'searchType': 'product'}, 'type': 'mainsearch'}, 'itemTypes': {'data': {'list': [{'value': 'product', 'text': '全部宝贝', 'select': True}, {'value': 'shop', 'text': '店铺', 'select': False}]}, 'type': 'itemTypes'}, 'itemNavBar': {'data': {'list': [{'value': 'MULTI_SEARCH', 'text': '全部', 'select': False, 'icon': '//gw.alicdn.com/tfs/TB15AHznxrI8KJjy0FpXXb5hVXa-36-36.png', 'ext': None}, {'value': 'GROUP_TOUR', 'text': '跟团游', 'select': False, 'icon': '//gw.alicdn.com/tfs/TB14kHznxrI8KJjy0FpXXb5hVXa-36-36.png', 'ext': None}, {'value': 'FREE_TOUR', 'text': '自由行', 'select': False, 'icon': '//gw.alicdn.com/tfs/TB1VlHanC_I8KJjy0FoXXaFnVXa-36-36.png', 'ext': None}, {'value': 'SCENIC', 'text': '门票', 'select': True, 'icon': '//gw.alicdn.com/tfs/TB14AHznxrI8KJjy0FpXXb5hVXa-36-36.png', 'ext': None}, {'value': 'LOCAL_TOUR', 'text': '特色体验', 'select': False, 'icon': '//gw.alicdn.com/tfs/TB1EQzCnwvD8KJjy0FlXXagBFXa-36-36.png', 'ext': None}, {'value': 'CRUISE', 'text': '邮轮', 'select': False, 'icon': '//gw.alicdn.com/tfs/TB1URHanC_I8KJjy0FoXXaFnVXa-36-36.png', 'ext': None}, {'value': 'TRIP_CAR', 'text': '用车/接送机', 'select': False, 'icon': '//gw.alicdn.com/tfs/TB1H6PsnBTH8KJjy0FiXXcRsXXa-36-36.png', 'ext': None}, {'value': 'DAY_TOUR', 'text': '一日游', 'select': False, 'icon': '//img.alicdn.com/tfs/TB1zLGtv4SYBuNjSspjXXX73VXa-18-18.png', 'ext': None}, {'value': 'DAYS_TOUR', 'text': '多日游', 'select': False, 'icon': '//img.alicdn.com/tfs/TB1n3DkvWmWBuNjy1XaXXXCbXXa-18-18.png', 'ext': None}, {'value': 'HOTEL_SCENIC', 'text': '酒店+门票', 'select': False, 'icon': '//img.alicdn.com/tfs/TB14GaIv4GYBuNjy0FnXXX5lpXa-18-18.png', 'ext': None}, {'value': 'HOTEL_BUFF', 'text': '酒店+自助餐', 'select': False, 'icon': '//img.alicdn.com/tfs/TB1PidLvYSYBuNjSspiXXXNzpXa-18-18.png', 'ext': None}]}, 'type': 'itemNavBar'}, 'insureBlock': {'data': {'img': 'https://gw.alicdn.com/tfs/TB1_gYaH3HqK1RjSZFkXXX.WFXa-235-110.png', 'desc': '飞猪7*24小时专业客服热线：', 'phoneNum': '9510208', 'noticeUrl': 'https://market.fliggy.com/markets/h5/security', 'jumpUrl': '//market.alitrip.com/markets/channel/insure?spm=181.7621407.2.1.63b21a4ezWrvS1&title=%E5%BA%A6%E5%81%87%E6%9C%8D%E5%8A%A1%E4%BF%9D%E9%9A%9C'}, 'type': 'insureBlock'}, 'pageFilter': {'data': {'category': 'SCENIC', 'aggregateInfos': [{'field': 'dest', 'hasValueSelected': False, 'selectedText': '城市', 'text': '城市', 'type': 'MULTIPLE', 'icon': None, 'min': None, 'max': None, 'subText': None, 'mutex': None, 'limitMix': None, 'limitMax': None, 'values': [{'highLight': False, 'selected': False, 'valid': True, 'text': '上海', 'value': '上海', 'icon': '', 'min': None, 'max': None, 'subText': None, 'subAggregateInfo': None, 'field': 'dest', 'type': 'MULTIPLE'}]}, {'field': 'scenicType', 'hasValueSelected': False, 'selectedText': '分类', 'text': '分类', 'type': 'MULTIPLE', 'icon': None, 'min': None, 'max': None, 'subText': None, 'mutex': None, 'limitMix': None, 'limitMax': None, 'values': [{'highLight': True, 'selected': True, 'valid': True, 'text': '全部', 'value': '', 'icon': None, 'min': None, 'max': None, 'subText': None, 'subAggregateInfo': None, 'field': 'scenicType', 'type': 'MULTIPLE'}]}, {'field': 'useDate', 'hasValueSelected': False, 'selectedText': '使用日期', 'text': '使用日期', 'type': 'SINGLE', 'icon': None, 'min': None, 'max': None, 'subText': None, 'mutex': None, 'limitMix': None, 'limitMax': None, 'values': [{'highLight': True, 'selected': True, 'valid': True, 'text': '不限', 'value': '', 'icon': None, 'min': None, 'max': None, 'subText': None, 'subAggregateInfo': None, 'field': 'useDate', 'type': 'SINGLE'}]}, {'field': 'scenicTheme', 'hasValueSelected': False, 'selectedText': '主题玩法', 'text': '主题玩法', 'type': 'MULTIPLE', 'icon': None, 'min': None, 'max': None, 'subText': None, 'mutex': None, 'limitMix': None, 'limitMax': None, 'values': [{'highLight': False, 'selected': False, 'valid': True, 'text': '城市观光', 'value': '城市观光', 'icon': None, 'min': None, 'max': None, 'subText': None, 'subAggregateInfo': None, 'field': 'scenicTheme', 'type': 'MULTIPLE'}, {'highLight': False, 'selected': False, 'valid': True, 'text': '主题乐园', 'value': '主题乐园', 'icon': None, 'min': None, 'max': None, 'subText': None, 'subAggregateInfo': None, 'field': 'scenicTheme', 'type': 'MULTIPLE'}, {'highLight': False, 'selected': False, 'valid': True, 'text': '风景名胜', 'value': '风景名胜', 'icon': None, 'min': None, 'max': None, 'subText': None, 'subAggregateInfo': None, 'field': 'scenicTheme', 'type': 'MULTIPLE'}, {'highLight': False, 'selected': False, 'valid': True, 'text': '博物馆', 'value': '博物馆', 'icon': None, 'min': None, 'max': None, 'subText': None, 'subAggregateInfo': None, 'field': 'scenicTheme', 'type': 'MULTIPLE'}, {'highLight': False, 'selected': False, 'valid': True, 'text': '人文建筑', 'value': '人文建筑', 'icon': None, 'min': None, 'max': None, 'subText': None, 'subAggregateInfo': None, 'field': 'scenicTheme', 'type': 'MULTIPLE'}, {'highLight': False, 'selected': False, 'valid': True, 'text': '亲子', 'value': '亲子', 'icon': None, 'min': None, 'max': None, 'subText': None, 'subAggregateInfo': None, 'field': 'scenicTheme', 'type': 'MULTIPLE'}, {'highLight': False, 'selected': False, 'valid': True, 'text': '交通游船', 'value': '交通游船', 'icon': None, 'min': None, 'max': None, 'subText': None, 'subAggregateInfo': None, 'field': 'scenicTheme', 'type': 'MULTIPLE'}, {'highLight': False, 'selected': False, 'valid': True, 'text': '水乡古镇', 'value': '水乡古镇', 'icon': None, 'min': None, 'max': None, 'subText': None, 'subAggregateInfo': None, 'field': 'scenicTheme', 'type': 'MULTIPLE'}, {'highLight': False, 'selected': False, 'valid': True, 'text': '动植物园', 'value': '动植物园', 'icon': None, 'min': None, 'max': None, 'subText': None, 'subAggregateInfo': None, 'field': 'scenicTheme', 'type': 'MULTIPLE'}, {'highLight': False, 'selected': False, 'valid': True, 'text': '赏花踏青', 'value': '赏花踏青', 'icon': None, 'min': None, 'max': None, 'subText': None, 'subAggregateInfo': None, 'field': 'scenicTheme', 'type': 'MULTIPLE'}, {'highLight': False, 'selected': False, 'valid': True, 'text': '海洋公园', 'value': '海洋公园', 'icon': None, 'min': None, 'max': None, 'subText': None, 'subAggregateInfo': None, 'field': 'scenicTheme', 'type': 'MULTIPLE'}, {'highLight': False, 'selected': False, 'valid': True, 'text': '美食餐饮', 'value': '美食餐饮', 'icon': None, 'min': None, 'max': None, 'subText': None, 'subAggregateInfo': None, 'field': 'scenicTheme', 'type': 'MULTIPLE'}, {'highLight': False, 'selected': False, 'valid': True, 'text': '休闲娱乐', 'value': '休闲娱乐', 'icon': None, 'min': None, 'max': None, 'subText': None, 'subAggregateInfo': None, 'field': 'scenicTheme', 'type': 'MULTIPLE'}, {'highLight': False, 'selected': False, 'valid': True, 'text': '演出表演', 'value': '演出表演', 'icon': None, 'min': None, 'max': None, 'subText': None, 'subAggregateInfo': None, 'field': 'scenicTheme', 'type': 'MULTIPLE'}, {'highLight': False, 'selected': False, 'valid': True, 'text': '温泉', 'value': '温泉', 'icon': None, 'min': None, 'max': None, 'subText': None, 'subAggregateInfo': None, 'field': 'scenicTheme', 'type': 'MULTIPLE'}, {'highLight': False, 'selected': False, 'valid': True, 'text': '海滨海岛', 'value': '海滨海岛', 'icon': None, 'min': None, 'max': None, 'subText': None, 'subAggregateInfo': None, 'field': 'scenicTheme', 'type': 'MULTIPLE'}, {'highLight': False, 'selected': False, 'valid': True, 'text': '水上乐园', 'value': '水上乐园', 'icon': None, 'min': None, 'max': None, 'subText': None, 'subAggregateInfo': None, 'field': 'scenicTheme', 'type': 'MULTIPLE'}, {'highLight': False, 'selected': False, 'valid': True, 'text': '文化宗教', 'value': '文化宗教', 'icon': None, 'min': None, 'max': None, 'subText': None, 'subAggregateInfo': None, 'field': 'scenicTheme', 'type': 'MULTIPLE'}, {'highLight': False, 'selected': False, 'valid': True, 'text': '农家田园', 'value': '农家田园', 'icon': None, 'min': None, 'max': None, 'subText': None, 'subAggregateInfo': None, 'field': 'scenicTheme', 'type': 'MULTIPLE'}]}]}, 'type': 'pageFilter'}, 'itemSort': {'data': {'sortData': {'field': '-1', 'hasValueSelected': False, 'selectedText': '综合排序', 'text': '综合排序', 'type': 'SINGLE', 'icon': None, 'min': None, 'max': None, 'subText': None, 'mutex': None, 'limitMix': None, 'limitMax': None, 'values': [{'highLight': False, 'selected': True, 'valid': True, 'text': '综合排序', 'value': 'popular', 'icon': '', 'min': None, 'max': None, 'subText': None, 'subAggregateInfo': None}, {'highLight': False, 'selected': False, 'valid': True, 'text': '价格由低到高', 'value': 'price_asc', 'icon': '', 'min': None, 'max': None, 'subText': None, 'subAggregateInfo': None}, {'highLight': False, 'selected': False, 'valid': True, 'text': '价格由高到低', 'value': 'price_des', 'icon': '', 'min': None, 'max': None, 'subText': None, 'subAggregateInfo': None}, {'highLight': False, 'selected': False, 'valid': True, 'text': '销量高到低', 'value': 'sales_des', 'icon': '', 'min': None, 'max': None, 'subText': None, 'subAggregateInfo': None}]}, 'pageData': {'field': 'pagenum', 'count': 28, 'current': 1}}, 'type': 'itemSort'}, 'itemProducts': {'data': {'list': [{'has_more': False, 'docsFound': 1338, 'auxiliary': {'native_url': None, 'h5_url': None, 'title': None, 'sort_idx': None, 'text': None, 'bussiness_name': None}, 'auctions': [{'trip_main_busness_type': 'scenic', 'src': 'mix', 'fields': {'itemId': '20498', 'title': '上海迪士尼度假区', 'cityName': None, 'comment': None, 'picUrl': '//img.alicdn.com/bao/uploaded/i1/O1CN01dtBlFY24UV4kxbWcL_!!0-travel.jpg', 'soldRecent': '已售128笔', 'soldRecentNum': '128', 'sold365': None, 'discountPrice': '499', 'type': None, 'subTitle': None, 'shortInfo': None, 'scm': None, 'price': '499', 'itemTotalScore': None, 'h5_url': None, 'native_url': None, 'pc_url': 'https://s.fliggy.com/scenic/detail.htm?sid=20498', 'distance': None, 'longitude': 121.662, 'latitude': 31.1413, 'p_score': '0', 'fromName': None, 'features': [{'key': '一句话描述', 'text': '卡通人物的游行和晚上的灯光焰火show超级赞，当然少不了和城堡合影，满足你的少女心。', 'color': None, 'iconUrl': None}], 'featuresNew': None, 'tagList': [{'text': '今日可用', 'icon': None, 'borderColor': '#FCE9B8', 'textColor': '#FCA500', 'bgColor': None, 'pormotion': False, 'className': None, 'tagType': {'name': 'NONE'}}], 'titleTagInfos': []}}, {'trip_main_busness_type': 'scenic', 'src': 'mix', 'fields': {'itemId': '688', 'title': '上海野生动物园', 'cityName': None, 'comment': None, 'picUrl': '//img.alicdn.com/bao/uploaded/i6/TB1COVbCkvoK1RjSZPf.GBPKFXa_020240.jpg', 'soldRecent': '已售5836笔', 'soldRecentNum': '5836', 'sold365': None, 'discountPrice': '109.99', 'type': None, 'subTitle': None, 'shortInfo': None, 'scm': None, 'price': '109.99', 'itemTotalScore': None, 'h5_url': None, 'native_url': None, 'pc_url': 'https://s.fliggy.com/scenic/detail.htm?sid=688', 'distance': None, 'longitude': 121.722, 'latitude': 31.0552, 'p_score': '0', 'fromName': None, 'features': [{'key': '一句话描述', 'text': '可以亲自喂食动物，最推荐小动物乐园，都是动物宝宝，萌翻啦！', 'color': None, 'iconUrl': None}], 'featuresNew': None, 'tagList': [{'text': '5A景区', 'icon': None, 'borderColor': '#FCE9B8', 'textColor': '#FCA500', 'bgColor': None, 'pormotion': False, 'className': None, 'tagType': {'name': 'NONE'}}, {'text': '今日可用', 'icon': None, 'borderColor': '#FCE9B8', 'textColor': '#FCA500', 'bgColor': None, 'pormotion': False, 'className': None, 'tagType': {'name': 'NONE'}}], 'titleTagInfos': []}}, {'trip_main_busness_type': 'scenic', 'src': 'mix', 'fields': {'itemId': '1769', 'title': '东方明珠广播电视塔', 'cityName': None, 'comment': None, 'picUrl': '//img.alicdn.com/bao/uploaded/tfscom/TB1r.4eXSCWBuNjy0FhSuv6EVXa', 'soldRecent': '已售1029笔', 'soldRecentNum': '1029', 'sold365': None, 'discountPrice': '102.9', 'type': None, 'subTitle': None, 'shortInfo': None, 'scm': None, 'price': '102.9', 'itemTotalScore': None, 'h5_url': None, 'native_url': None, 'pc_url': 'https://s.fliggy.com/scenic/detail.htm?sid=1769', 'distance': None, 'longitude': 121.5, 'latitude': 31.2397, 'p_score': '0', 'fromName': None, 'features': [{'key': '一句话描述', 'text': '一站式了解上海的过去、现在、未来，一张门票打卡东方明珠十大景点。', 'color': None, 'iconUrl': None}], 'featuresNew': None, 'tagList': [{'text': '5A景区', 'icon': None, 'borderColor': '#FCE9B8', 'textColor': '#FCA500', 'bgColor': None, 'pormotion': False, 'className': None, 'tagType': {'name': 'NONE'}}, {'text': '今日可用', 'icon': None, 'borderColor': '#FCE9B8', 'textColor': '#FCA500', 'bgColor': None, 'pormotion': False, 'className': None, 'tagType': {'name': 'NONE'}}], 'titleTagInfos': [{'text': '城市活力周', 'icon': 'https://gw.alicdn.com/tfs/TB1yAnxBAL0gK0jSZFAXXcA9pXa-246-72.png', 'borderColor': '#FF0036', 'textColor': '#FF0036', 'bgColor': '#FFEFF2', 'pormotion': False, 'className': None, 'tagType': None}]}}, {'trip_main_busness_type': 'scenic', 'src': 'mix', 'fields': {'itemId': '290', 'title': '上海欢乐谷', 'cityName': None, 'comment': None, 'picUrl': '//img.alicdn.com/bao/uploaded/tfscom/TB1v7NjXMaTBuNjSszfSutgfpXa', 'soldRecent': '已售3458笔', 'soldRecentNum': '3458', 'sold365': None, 'discountPrice': '169.8', 'type': None, 'subTitle': None, 'shortInfo': None, 'scm': None, 'price': '169.8', 'itemTotalScore': None, 'h5_url': None, 'native_url': None, 'pc_url': 'https://s.fliggy.com/scenic/detail.htm?sid=290', 'distance': None, 'longitude': 121.215, 'latitude': 31.0961, 'p_score': '0', 'fromName': None, 'features': [{'key': '一句话描述', 'text': '过山车和大摆锤还有跳楼机都很刺激，可以去试试自己的胆子哦。', 'color': None, 'iconUrl': None}], 'featuresNew': None, 'tagList': [{'text': '今日可用', 'icon': None, 'borderColor': '#FCE9B8', 'textColor': '#FCA500', 'bgColor': None, 'pormotion': False, 'className': None, 'tagType': {'name': 'NONE'}}], 'titleTagInfos': []}}, {'trip_main_busness_type': 'scenic', 'src': 'mix', 'fields': {'itemId': '1795', 'title': '黄浦江游览', 'cityName': None, 'comment': None, 'picUrl': '//img.alicdn.com/bao/uploaded/tfscom/TB1qsphXQyWBuNjy0FpSuussXXa', 'soldRecent': '已售143笔', 'soldRecentNum': '143', 'sold365': None, 'discountPrice': '67.7', 'type': None, 'subTitle': None, 'shortInfo': None, 'scm': None, 'price': '67.7', 'itemTotalScore': None, 'h5_url': None, 'native_url': None, 'pc_url': 'https://s.fliggy.com/scenic/detail.htm?sid=1795', 'distance': None, 'longitude': 121.494, 'latitude': 31.2297, 'p_score': '0', 'fromName': None, 'features': [{'key': '一句话描述', 'text': '游览的人很多，但是两岸的景色超级美，手机拍到没电。', 'color': None, 'iconUrl': None}], 'featuresNew': None, 'tagList': [{'text': '今日可用', 'icon': None, 'borderColor': '#FCE9B8', 'textColor': '#FCA500', 'bgColor': None, 'pormotion': False, 'className': None, 'tagType': {'name': 'NONE'}}], 'titleTagInfos': []}}, {'trip_main_busness_type': 'scenic', 'src': 'mix', 'fields': {'itemId': '1368', 'title': '上海科技馆', 'cityName': None, 'comment': None, 'picUrl': '//img.alicdn.com/bao/uploaded/i2/170060263390977302/TB24u.YtVXXXXXmXpXXXXXXXXXX_!!0-travel.jpg', 'soldRecent': '已售304笔', 'soldRecentNum': '304', 'sold365': None, 'discountPrice': '44.88', 'type': None, 'subTitle': None, 'shortInfo': None, 'scm': None, 'price': '44.88', 'itemTotalScore': None, 'h5_url': None, 'native_url': None, 'pc_url': 'https://s.fliggy.com/scenic/detail.htm?sid=1368', 'distance': None, 'longitude': 121.544, 'latitude': 31.219, 'p_score': '0', 'fromName': None, 'features': [{'key': '一句话描述', 'text': '带小朋友亲身体验真实效果的科幻场景，增长科学知识。', 'color': None, 'iconUrl': None}], 'featuresNew': None, 'tagList': [{'text': '5A景区', 'icon': None, 'borderColor': '#FCE9B8', 'textColor': '#FCA500', 'bgColor': None, 'pormotion': False, 'className': None, 'tagType': {'name': 'NONE'}}, {'text': '今日可用', 'icon': None, 'borderColor': '#FCE9B8', 'textColor': '#FCA500', 'bgColor': None, 'pormotion': False, 'className': None, 'tagType': {'name': 'NONE'}}], 'titleTagInfos': []}}, {'trip_main_busness_type': 'scenic', 'src': 'mix', 'fields': {'itemId': '37353681', 'title': '上海海昌海洋公园', 'cityName': None, 'comment': None, 'picUrl': '//img.alicdn.com/bao/uploaded/i1/TB1hV1QiwHqK1RjSZFEX5IGMXXa_100015.jpg', 'soldRecent': '已售3143笔', 'soldRecentNum': '3143', 'sold365': None, 'discountPrice': '279', 'type': None, 'subTitle': None, 'shortInfo': None, 'scm': None, 'price': '279', 'itemTotalScore': None, 'h5_url': None, 'native_url': None, 'pc_url': 'https://s.fliggy.com/scenic/detail.htm?sid=37353681', 'distance': None, 'longitude': 121.908, 'latitude': 30.9149, 'p_score': '0', 'fromName': None, 'features': [{'key': '一句话描述', 'text': '上海网红打卡新圣地，席卷你的想象！', 'color': None, 'iconUrl': None}], 'featuresNew': None, 'tagList': [{'text': '可订今日票', 'icon': None, 'borderColor': '#FCE9B8', 'textColor': '#FCA500', 'bgColor': None, 'pormotion': False, 'className': None, 'tagType': {'name': 'NONE'}}], 'titleTagInfos': []}}, {'trip_main_busness_type': 'scenic', 'src': 'mix', 'fields': {'itemId': '1840', 'title': '上海杜莎夫人蜡像馆', 'cityName': None, 'comment': None, 'picUrl': '//img.alicdn.com/bao/uploaded/i5/TB1nB8DE3HqK1RjSZFktKR.WFXa_122346.jpg', 'soldRecent': '已售110笔', 'soldRecentNum': '110', 'sold365': None, 'discountPrice': '230', 'type': None, 'subTitle': None, 'shortInfo': None, 'scm': None, 'price': '230', 'itemTotalScore': None, 'h5_url': None, 'native_url': None, 'pc_url': 'https://s.fliggy.com/scenic/detail.htm?sid=1840', 'distance': None, 'longitude': 121.473, 'latitude': 31.2347, 'p_score': '0', 'fromName': None, 'features': [{'key': '一句话描述', 'text': '蜡像还原度超高的说，可以和自己的爱豆拍照，幸福的感觉。', 'color': None, 'iconUrl': None}], 'featuresNew': None, 'tagList': [{'text': '4A景区', 'icon': None, 'borderColor': '#FCE9B8', 'textColor': '#FCA500', 'bgColor': None, 'pormotion': False, 'className': None, 'tagType': {'name': 'NONE'}}, {'text': '今日可用', 'icon': None, 'borderColor': '#FCE9B8', 'textColor': '#FCA500', 'bgColor': None, 'pormotion': False, 'className': None, 'tagType': {'name': 'NONE'}}], 'titleTagInfos': [{'text': '城市活力周', 'icon': 'https://gw.alicdn.com/tfs/TB1yAnxBAL0gK0jSZFAXXcA9pXa-246-72.png', 'borderColor': '#FF0036', 'textColor': '#FF0036', 'bgColor': '#FFEFF2', 'pormotion': False, 'className': None, 'tagType': None}]}}, {'trip_main_busness_type': 'scenic', 'src': 'mix', 'fields': {'itemId': '4879', 'title': '上海动物园', 'cityName': None, 'comment': None, 'picUrl': '//img.alicdn.com/bao/uploaded/i4/170070265819147570/TB2iNAeuXXXXXX0XpXXXXXXXXXX_!!0-travel.jpg', 'soldRecent': '已售1877笔', 'soldRecentNum': '1877', 'sold365': None, 'discountPrice': '34.88', 'type': None, 'subTitle': None, 'shortInfo': None, 'scm': None, 'price': '34.88', 'itemTotalScore': None, 'h5_url': None, 'native_url': None, 'pc_url': 'https://s.fliggy.com/scenic/detail.htm?sid=4879', 'distance': None, 'longitude': 121.363, 'latitude': 31.1929, 'p_score': '0', 'fromName': None, 'features': [{'key': '一句话描述', 'text': '动物种类很多，可以近距离接触动物，有小朋友最爱的动物宝宝。', 'color': None, 'iconUrl': None}], 'featuresNew': None, 'tagList': [{'text': '4A景区', 'icon': None, 'borderColor': '#FCE9B8', 'textColor': '#FCA500', 'bgColor': None, 'pormotion': False, 'className': None, 'tagType': {'name': 'NONE'}}], 'titleTagInfos': []}}, {'trip_main_busness_type': 'scenic', 'src': 'mix', 'fields': {'itemId': '20779', 'title': '上海中心大厦', 'cityName': None, 'comment': None, 'picUrl': '//img.alicdn.com/bao/uploaded/tfscom/TB1wnhfXMmTBuNjy1XbSuuMrVXa', 'soldRecent': '已售8笔', 'soldRecentNum': '8', 'sold365': None, 'discountPrice': '147', 'type': None, 'subTitle': None, 'shortInfo': None, 'scm': None, 'price': '147', 'itemTotalScore': None, 'h5_url': None, 'native_url': None, 'pc_url': 'https://s.fliggy.com/scenic/detail.htm?sid=20779', 'distance': None, 'longitude': 121.505, 'latitude': 31.2335, 'p_score': '0', 'fromName': None, 'features': [{'key': '一句话描述', 'text': '楼高视野就是棒，拍完夕阳赏夜景，约会也很有氛围！', 'color': None, 'iconUrl': None}], 'featuresNew': None, 'tagList': [{'text': '明日可用', 'icon': None, 'borderColor': '#FCE9B8', 'textColor': '#FCA500', 'bgColor': None, 'pormotion': False, 'className': None, 'tagType': {'name': 'NONE'}}], 'titleTagInfos': []}}, {'trip_main_busness_type': 'vocation', 'src': 'mix', 'fields': {'itemId': '594112396783', 'title': '[东方明珠广播电视塔-看上海&middot;超值票]东方明珠门票 东方明珠塔门票', 'cityName': None, 'comment': '105', 'picUrl': 'https://img.alicdn.com/bao/uploaded/i1/2368512683/O1CN01PWvxit1VgrCD83iRt_!!2368512683.jpg', 'soldRecent': '月售200笔', 'soldRecentNum': '200', 'sold365': '已售7685笔', 'discountPrice': '98.99', 'type': None, 'subTitle': None, 'shortInfo': '上海', 'scm': '20140635.-2_1_1..0b521ce815873634636116620eefc9', 'price': '109', 'itemTotalScore': 5, 'h5_url': 'https://h5.m.taobao.com/trip/travel-detail/index/index.html?id=594112396783&_fli_newpage=1&_fli_native_ver=9.3.0&categoryId=124866006&gsCallback=594112396783&propertyParam=%7b%22detailsrc%22%3a%22search%22%7d', 'native_url': None, 'pc_url': 'https://traveldetail.fliggy.com/item.htm?id=594112396783', 'distance': None, 'longitude': 0, 'latitude': 0, 'p_score': '0', 'fromName': None, 'features': [{'key': None, 'text': '21:30前可订今日票', 'color': None, 'iconUrl': None}, {'key': None, 'text': '出票即用', 'color': None, 'iconUrl': None}], 'featuresNew': [{'key': None, 'text': '21:30前可订今日票', 'color': None, 'iconUrl': None}, {'key': None, 'text': '出票即用', 'color': None, 'iconUrl': None}], 'tagList': [], 'titleTagInfos': []}}], 'v_travel_type': None, 'sp_debug': None, 'sp_trace': None}]}, 'type': 'itemProducts'}, 'itemPagenum': {'data': {'field': 'pagenum', 'count': 28, 'current': 1}, 'type': 'itemPagenum'}, 'searchRecommend': {'type': 'searchRecommend'}, '_gs_pop_url': {'type': '_gs_pop_url'}}}}\n"
     ]
    }
   ],
   "source": [
    "print(data)"
   ]
  },
  {
   "cell_type": "code",
   "execution_count": 23,
   "metadata": {},
   "outputs": [
    {
     "name": "stdout",
     "output_type": "stream",
     "text": [
      "{'data': {'field': 'pagenum', 'count': 28, 'current': 1}, 'type': 'itemPagenum'}\n"
     ]
    }
   ],
   "source": [
    " #三、取到字典data里的：itemPagenum项，继续向下取数\n",
    "itemPagenum = data['data']['data'].get('itemPagenum')  #.get等同于['keyname']\n",
    "print(itemPagenum)"
   ]
  },
  {
   "cell_type": "code",
   "execution_count": null,
   "metadata": {},
   "outputs": [],
   "source": [
    "\n"
   ]
  },
  {
   "cell_type": "code",
   "execution_count": 24,
   "metadata": {},
   "outputs": [
    {
     "name": "stdout",
     "output_type": "stream",
     "text": [
      "  cityName comment discountPrice distance                                           features featuresNew fromName h5_url itemId itemTotalScore latitude longitude native_url p_score                                            pc_url                                             picUrl price  scm shortInfo sold365 soldRecent soldRecentNum subTitle                                            tagList     title titleTagInfos type\n",
      "0      NaN     NaN           499      NaN  {'key': '一句话描述', 'text': '卡通人物的游行和晚上的灯光焰火show超...         NaN      NaN    NaN  20498            NaN  31.1413   121.662        NaN       0  https://s.fliggy.com/scenic/detail.htm?sid=20498  //img.alicdn.com/bao/uploaded/i1/O1CN01dtBlFY2...   499  NaN       NaN     NaN     已售128笔           128      NaN  {'text': '今日可用', 'icon': None, 'borderColor': ...  上海迪士尼度假区           NaN  NaN\n",
      "  cityName comment discountPrice distance                                           features featuresNew fromName h5_url itemId itemTotalScore latitude longitude native_url p_score                                          pc_url                                             picUrl   price  scm shortInfo sold365 soldRecent soldRecentNum subTitle                                            tagList    title titleTagInfos type\n",
      "0      NaN     NaN        109.99      NaN  {'key': '一句话描述', 'text': '可以亲自喂食动物，最推荐小动物乐园，都是...         NaN      NaN    NaN    688            NaN  31.0552   121.722        NaN       0  https://s.fliggy.com/scenic/detail.htm?sid=688  //img.alicdn.com/bao/uploaded/i6/TB1COVbCkvoK1...  109.99  NaN       NaN     NaN    已售5836笔          5836      NaN  {'text': '5A景区', 'icon': None, 'borderColor': ...  上海野生动物园           NaN  NaN\n",
      "1      NaN     NaN           NaN      NaN                                                NaN         NaN      NaN    NaN    NaN            NaN      NaN       NaN        NaN     NaN                                             NaN                                                NaN     NaN  NaN       NaN     NaN        NaN           NaN      NaN  {'text': '今日可用', 'icon': None, 'borderColor': ...      NaN           NaN  NaN\n",
      "  cityName comment discountPrice distance                                           features featuresNew fromName h5_url itemId itemTotalScore latitude longitude native_url p_score                                           pc_url                                             picUrl  price  scm shortInfo sold365 soldRecent soldRecentNum subTitle                                            tagList      title                                      titleTagInfos type\n",
      "0      NaN     NaN         102.9      NaN  {'key': '一句话描述', 'text': '一站式了解上海的过去、现在、未来，一张门...         NaN      NaN    NaN   1769            NaN  31.2397     121.5        NaN       0  https://s.fliggy.com/scenic/detail.htm?sid=1769  //img.alicdn.com/bao/uploaded/tfscom/TB1r.4eXS...  102.9  NaN       NaN     NaN    已售1029笔          1029      NaN  {'text': '5A景区', 'icon': None, 'borderColor': ...  东方明珠广播电视塔  {'text': '城市活力周', 'icon': 'https://gw.alicdn.c...  NaN\n",
      "1      NaN     NaN           NaN      NaN                                                NaN         NaN      NaN    NaN    NaN            NaN      NaN       NaN        NaN     NaN                                              NaN                                                NaN    NaN  NaN       NaN     NaN        NaN           NaN      NaN  {'text': '今日可用', 'icon': None, 'borderColor': ...        NaN                                                NaN  NaN\n",
      "  cityName comment discountPrice distance                                           features featuresNew fromName h5_url itemId itemTotalScore latitude longitude native_url p_score                                          pc_url                                             picUrl  price  scm shortInfo sold365 soldRecent soldRecentNum subTitle                                            tagList  title titleTagInfos type\n",
      "0      NaN     NaN         169.8      NaN  {'key': '一句话描述', 'text': '过山车和大摆锤还有跳楼机都很刺激，可以去...         NaN      NaN    NaN    290            NaN  31.0961   121.215        NaN       0  https://s.fliggy.com/scenic/detail.htm?sid=290  //img.alicdn.com/bao/uploaded/tfscom/TB1v7NjXM...  169.8  NaN       NaN     NaN    已售3458笔          3458      NaN  {'text': '今日可用', 'icon': None, 'borderColor': ...  上海欢乐谷           NaN  NaN\n",
      "  cityName comment discountPrice distance                                           features featuresNew fromName h5_url itemId itemTotalScore latitude longitude native_url p_score                                           pc_url                                             picUrl price  scm shortInfo sold365 soldRecent soldRecentNum subTitle                                            tagList  title titleTagInfos type\n",
      "0      NaN     NaN          67.7      NaN  {'key': '一句话描述', 'text': '游览的人很多，但是两岸的景色超级美，手机...         NaN      NaN    NaN   1795            NaN  31.2297   121.494        NaN       0  https://s.fliggy.com/scenic/detail.htm?sid=1795  //img.alicdn.com/bao/uploaded/tfscom/TB1qsphXQ...  67.7  NaN       NaN     NaN     已售143笔           143      NaN  {'text': '今日可用', 'icon': None, 'borderColor': ...  黄浦江游览           NaN  NaN\n",
      "  cityName comment discountPrice distance                                           features featuresNew fromName h5_url itemId itemTotalScore latitude longitude native_url p_score                                           pc_url                                             picUrl  price  scm shortInfo sold365 soldRecent soldRecentNum subTitle                                            tagList  title titleTagInfos type\n",
      "0      NaN     NaN         44.88      NaN  {'key': '一句话描述', 'text': '带小朋友亲身体验真实效果的科幻场景，增长...         NaN      NaN    NaN   1368            NaN   31.219   121.544        NaN       0  https://s.fliggy.com/scenic/detail.htm?sid=1368  //img.alicdn.com/bao/uploaded/i2/1700602633909...  44.88  NaN       NaN     NaN     已售304笔           304      NaN  {'text': '5A景区', 'icon': None, 'borderColor': ...  上海科技馆           NaN  NaN\n",
      "1      NaN     NaN           NaN      NaN                                                NaN         NaN      NaN    NaN    NaN            NaN      NaN       NaN        NaN     NaN                                              NaN                                                NaN    NaN  NaN       NaN     NaN        NaN           NaN      NaN  {'text': '今日可用', 'icon': None, 'borderColor': ...    NaN           NaN  NaN\n",
      "  cityName comment discountPrice distance                                           features featuresNew fromName h5_url    itemId itemTotalScore latitude longitude native_url p_score                                             pc_url                                             picUrl price  scm shortInfo sold365 soldRecent soldRecentNum subTitle                                            tagList     title titleTagInfos type\n",
      "0      NaN     NaN           279      NaN  {'key': '一句话描述', 'text': '上海网红打卡新圣地，席卷你的想象！', ...         NaN      NaN    NaN  37353681            NaN  30.9149   121.908        NaN       0  https://s.fliggy.com/scenic/detail.htm?sid=373...  //img.alicdn.com/bao/uploaded/i1/TB1hV1QiwHqK1...   279  NaN       NaN     NaN    已售3143笔          3143      NaN  {'text': '可订今日票', 'icon': None, 'borderColor':...  上海海昌海洋公园           NaN  NaN\n",
      "  cityName comment discountPrice distance                                           features featuresNew fromName h5_url itemId itemTotalScore latitude longitude native_url p_score                                           pc_url                                             picUrl price  scm shortInfo sold365 soldRecent soldRecentNum subTitle                                            tagList      title                                      titleTagInfos type\n",
      "0      NaN     NaN           230      NaN  {'key': '一句话描述', 'text': '蜡像还原度超高的说，可以和自己的爱豆拍照...         NaN      NaN    NaN   1840            NaN  31.2347   121.473        NaN       0  https://s.fliggy.com/scenic/detail.htm?sid=1840  //img.alicdn.com/bao/uploaded/i5/TB1nB8DE3HqK1...   230  NaN       NaN     NaN     已售110笔           110      NaN  {'text': '4A景区', 'icon': None, 'borderColor': ...  上海杜莎夫人蜡像馆  {'text': '城市活力周', 'icon': 'https://gw.alicdn.c...  NaN\n",
      "1      NaN     NaN           NaN      NaN                                                NaN         NaN      NaN    NaN    NaN            NaN      NaN       NaN        NaN     NaN                                              NaN                                                NaN   NaN  NaN       NaN     NaN        NaN           NaN      NaN  {'text': '今日可用', 'icon': None, 'borderColor': ...        NaN                                                NaN  NaN\n",
      "  cityName comment discountPrice distance                                           features featuresNew fromName h5_url itemId itemTotalScore latitude longitude native_url p_score                                           pc_url                                             picUrl  price  scm shortInfo sold365 soldRecent soldRecentNum subTitle                                            tagList  title titleTagInfos type\n",
      "0      NaN     NaN         34.88      NaN  {'key': '一句话描述', 'text': '动物种类很多，可以近距离接触动物，有小朋...         NaN      NaN    NaN   4879            NaN  31.1929   121.363        NaN       0  https://s.fliggy.com/scenic/detail.htm?sid=4879  //img.alicdn.com/bao/uploaded/i4/1700702658191...  34.88  NaN       NaN     NaN    已售1877笔          1877      NaN  {'text': '4A景区', 'icon': None, 'borderColor': ...  上海动物园           NaN  NaN\n",
      "  cityName comment discountPrice distance                                           features featuresNew fromName h5_url itemId itemTotalScore latitude longitude native_url p_score                                            pc_url                                             picUrl price  scm shortInfo sold365 soldRecent soldRecentNum subTitle                                            tagList   title titleTagInfos type\n",
      "0      NaN     NaN           147      NaN  {'key': '一句话描述', 'text': '楼高视野就是棒，拍完夕阳赏夜景，约会也很...         NaN      NaN    NaN  20779            NaN  31.2335   121.505        NaN       0  https://s.fliggy.com/scenic/detail.htm?sid=20779  //img.alicdn.com/bao/uploaded/tfscom/TB1wnhfXM...   147  NaN       NaN     NaN       已售8笔             8      NaN  {'text': '明日可用', 'icon': None, 'borderColor': ...  上海中心大厦           NaN  NaN\n",
      "  cityName comment discountPrice distance                                           features                                        featuresNew fromName                                             h5_url        itemId itemTotalScore latitude longitude native_url p_score                                             pc_url                                             picUrl price                                              scm shortInfo  sold365 soldRecent soldRecentNum subTitle tagList                                     title titleTagInfos type\n",
      "0      NaN     105         98.99      NaN  {'key': None, 'text': '21:30前可订今日票', 'color': ...  {'key': None, 'text': '21:30前可订今日票', 'color': ...      NaN  https://h5.m.taobao.com/trip/travel-detail/ind...  594112396783              5        0         0        NaN       0  https://traveldetail.fliggy.com/item.htm?id=59...  https://img.alicdn.com/bao/uploaded/i1/2368512...   109  20140635.-2_1_1..0b521ce815873634636116620eefc9        上海  已售7685笔     月售200笔           200      NaN     NaN  [东方明珠广播电视塔-看上海&middot;超值票]东方明珠门票 东方明珠塔门票           NaN  NaN\n",
      "1      NaN     NaN           NaN      NaN  {'key': None, 'text': '出票即用', 'color': None, '...  {'key': None, 'text': '出票即用', 'color': None, '...      NaN                                                NaN           NaN            NaN      NaN       NaN        NaN     NaN                                                NaN                                                NaN   NaN                                              NaN       NaN      NaN        NaN           NaN      NaN     NaN                                       NaN           NaN  NaN\n",
      "['cityName', 'comment', 'discountPrice', 'distance', 'features', 'featuresNew', 'fromName', 'h5_url', 'itemId', 'itemTotalScore', 'latitude', 'longitude', 'native_url', 'p_score', 'pc_url', 'picUrl', 'price', 'scm', 'shortInfo', 'sold365', 'soldRecent', 'soldRecentNum', 'subTitle', 'tagList', 'title', 'titleTagInfos', 'type']\n",
      "成功爬取城市:上海的第1页数据!\n"
     ]
    }
   ],
   "source": [
    " if itemPagenum is not None:\n",
    "    page_count = itemPagenum['data']['count'] #寻找到当前页\n",
    "    data_list = data['data']['data']['itemProducts']['data']['list'][0]['auctions']\n",
    "    for ticket in data_list:\n",
    "        ticket['city'] = city  #增加城市列\n",
    "        df=pd.DataFrame(ticket)\n",
    "        fields_cols=list(df['fields'].index)\n",
    "        df2=df['fields'].apply(pd.Series).T\n",
    "        df2.to_excel('t.xlsx')\n",
    "        print(df2)\n",
    "    print(fields_cols)\n",
    "#     print(ticket['fields'].keys())\n",
    "    print('成功爬取城市:{}的第{}页数据!'.format(city, 1))\n"
   ]
  },
  {
   "cell_type": "code",
   "execution_count": null,
   "metadata": {},
   "outputs": [],
   "source": []
  },
  {
   "cell_type": "code",
   "execution_count": 25,
   "metadata": {},
   "outputs": [],
   "source": [
    "d={\"2018\":{\"1月\":1, \"2月\":2, \"3月\":3}, \n",
    " \"2017\":{\"1月\":4, \"2月\":5, \"3月\":6}, \n",
    " \"2016\":{\"1月\":7, \"2月\":8, \"3月\":9}}"
   ]
  },
  {
   "cell_type": "code",
   "execution_count": 26,
   "metadata": {},
   "outputs": [
    {
     "data": {
      "text/html": [
       "<div>\n",
       "<style scoped>\n",
       "    .dataframe tbody tr th:only-of-type {\n",
       "        vertical-align: middle;\n",
       "    }\n",
       "\n",
       "    .dataframe tbody tr th {\n",
       "        vertical-align: top;\n",
       "    }\n",
       "\n",
       "    .dataframe thead th {\n",
       "        text-align: right;\n",
       "    }\n",
       "</style>\n",
       "<table border=\"1\" class=\"dataframe\">\n",
       "  <thead>\n",
       "    <tr style=\"text-align: right;\">\n",
       "      <th></th>\n",
       "      <th>2018</th>\n",
       "      <th>2017</th>\n",
       "      <th>2016</th>\n",
       "    </tr>\n",
       "  </thead>\n",
       "  <tbody>\n",
       "    <tr>\n",
       "      <th>1月</th>\n",
       "      <td>1</td>\n",
       "      <td>4</td>\n",
       "      <td>7</td>\n",
       "    </tr>\n",
       "    <tr>\n",
       "      <th>2月</th>\n",
       "      <td>2</td>\n",
       "      <td>5</td>\n",
       "      <td>8</td>\n",
       "    </tr>\n",
       "    <tr>\n",
       "      <th>3月</th>\n",
       "      <td>3</td>\n",
       "      <td>6</td>\n",
       "      <td>9</td>\n",
       "    </tr>\n",
       "  </tbody>\n",
       "</table>\n",
       "</div>"
      ],
      "text/plain": [
       "    2018  2017  2016\n",
       "1月     1     4     7\n",
       "2月     2     5     8\n",
       "3月     3     6     9"
      ]
     },
     "execution_count": 26,
     "metadata": {},
     "output_type": "execute_result"
    }
   ],
   "source": [
    "df=pd.DataFrame(d)\n",
    "df"
   ]
  },
  {
   "cell_type": "code",
   "execution_count": null,
   "metadata": {},
   "outputs": [],
   "source": []
  },
  {
   "cell_type": "code",
   "execution_count": null,
   "metadata": {},
   "outputs": [],
   "source": []
  },
  {
   "cell_type": "code",
   "execution_count": null,
   "metadata": {},
   "outputs": [],
   "source": []
  },
  {
   "cell_type": "code",
   "execution_count": 54,
   "metadata": {},
   "outputs": [
    {
     "data": {
      "text/plain": [
       "{'Category 1': {'att_1': 1, 'att_2': 'whatever', 'att_3': 'TET'},\n",
       " 'Category 2': {'att_1': 23, 'att_2': 'another'},\n",
       " 15: {'Category 1': {'att_1': 10, 'att_2': 'foo'},\n",
       "  'Category 2': {'att_1': 30, 'att_2': 'bar'}}}"
      ]
     },
     "execution_count": 54,
     "metadata": {},
     "output_type": "execute_result"
    }
   ],
   "source": [
    "user_dict={'Category 1': {'att_1': 1, 'att_2': 'whatever','att_3': 'TET'},'Category 2': {'att_1': 23, 'att_2': 'another'}\n",
    "           ,15: {'Category 1': {'att_1': 10, 'att_2': 'foo'}, 'Category 2': {'att_1': 30, 'att_2': 'bar'}}}\n",
    "user_dict"
   ]
  },
  {
   "cell_type": "code",
   "execution_count": null,
   "metadata": {},
   "outputs": [],
   "source": []
  },
  {
   "cell_type": "code",
   "execution_count": 68,
   "metadata": {},
   "outputs": [],
   "source": [
    "user_ids = []\n",
    "frames = []"
   ]
  },
  {
   "cell_type": "code",
   "execution_count": 69,
   "metadata": {},
   "outputs": [
    {
     "name": "stdout",
     "output_type": "stream",
     "text": [
      "Category 1 {'att_1': 1, 'att_2': 'whatever', 'att_3': 'TET'}\n",
      "Category 2 {'att_1': 23, 'att_2': 'another'}\n",
      "15 {'Category 1': {'att_1': 10, 'att_2': 'foo'}, 'Category 2': {'att_1': 30, 'att_2': 'bar'}}\n",
      "B None\n"
     ]
    }
   ],
   "source": [
    "for user_id, d in user_dict.items():\n",
    "    print(user_id,d)\n",
    "    user_ids.append(user_id)\n",
    "#     print(user_ids)\n",
    "    a=pd.DataFrame.from_dict(d, orient='index')\n",
    "#     print('A',a)\n",
    "#     b=frames.append(pd.DataFrame.from_dict(d, orient='index'))\n",
    "\n",
    "print('B',b)\n"
   ]
  },
  {
   "cell_type": "code",
   "execution_count": 86,
   "metadata": {},
   "outputs": [],
   "source": [
    "c=pd.concat(frames, keys=user_ids)"
   ]
  },
  {
   "cell_type": "code",
   "execution_count": 70,
   "metadata": {},
   "outputs": [
    {
     "data": {
      "text/plain": [
       "{'a': 1,\n",
       " 'b': 2,\n",
       " 'Category 1': {'att_1': 1, 'att_2': 'whatever', 'att_3': 'TET'}}"
      ]
     },
     "execution_count": 70,
     "metadata": {},
     "output_type": "execute_result"
    }
   ],
   "source": [
    "user_dict={'a':1,'b':2,'Category 1': {'att_1': 1, 'att_2': 'whatever','att_3': 'TET'}}\n",
    "user_dict"
   ]
  },
  {
   "cell_type": "code",
   "execution_count": null,
   "metadata": {},
   "outputs": [],
   "source": []
  },
  {
   "cell_type": "code",
   "execution_count": 102,
   "metadata": {},
   "outputs": [
    {
     "name": "stdout",
     "output_type": "stream",
     "text": [
      "  att_1     att_2 att_3\n",
      "0     1  whatever   TET\n"
     ]
    },
    {
     "data": {
      "text/html": [
       "<div>\n",
       "<style scoped>\n",
       "    .dataframe tbody tr th:only-of-type {\n",
       "        vertical-align: middle;\n",
       "    }\n",
       "\n",
       "    .dataframe tbody tr th {\n",
       "        vertical-align: top;\n",
       "    }\n",
       "\n",
       "    .dataframe thead th {\n",
       "        text-align: right;\n",
       "    }\n",
       "</style>\n",
       "<table border=\"1\" class=\"dataframe\">\n",
       "  <thead>\n",
       "    <tr style=\"text-align: right;\">\n",
       "      <th></th>\n",
       "      <th>a</th>\n",
       "      <th>b</th>\n",
       "      <th>Category 1</th>\n",
       "      <th>att_1</th>\n",
       "      <th>att_2</th>\n",
       "      <th>att_3</th>\n",
       "    </tr>\n",
       "  </thead>\n",
       "  <tbody>\n",
       "    <tr>\n",
       "      <th>0</th>\n",
       "      <td>1</td>\n",
       "      <td>2</td>\n",
       "      <td>{'att_1': 1, 'att_2': 'whatever', 'att_3': 'TET'}</td>\n",
       "      <td>1</td>\n",
       "      <td>whatever</td>\n",
       "      <td>TET</td>\n",
       "    </tr>\n",
       "  </tbody>\n",
       "</table>\n",
       "</div>"
      ],
      "text/plain": [
       "   a  b                                         Category 1 att_1     att_2 att_3\n",
       "0  1  2  {'att_1': 1, 'att_2': 'whatever', 'att_3': 'TET'}     1  whatever   TET"
      ]
     },
     "execution_count": 102,
     "metadata": {},
     "output_type": "execute_result"
    }
   ],
   "source": [
    "user_ids = []\n",
    "frames = []\n",
    "df_a=pd.DataFrame.from_dict(user_dict, orient='index').T\n",
    "# df_a\n",
    "\n",
    "for user_id, d in user_dict.items():\n",
    "#     print(user_id,d)\n",
    "#     print(type(d))\n",
    "    user_ids.append(user_id)\n",
    "    if type(d)==dict:\n",
    "        df_f=pd.DataFrame.from_dict(d, orient='index').T\n",
    "        print(df_f)\n",
    "result = pd.concat([df_a, df_f], axis=1)\n",
    "result"
   ]
  },
  {
   "cell_type": "code",
   "execution_count": 103,
   "metadata": {},
   "outputs": [],
   "source": [
    "del result['Category 1']"
   ]
  },
  {
   "cell_type": "code",
   "execution_count": 104,
   "metadata": {},
   "outputs": [
    {
     "data": {
      "text/html": [
       "<div>\n",
       "<style scoped>\n",
       "    .dataframe tbody tr th:only-of-type {\n",
       "        vertical-align: middle;\n",
       "    }\n",
       "\n",
       "    .dataframe tbody tr th {\n",
       "        vertical-align: top;\n",
       "    }\n",
       "\n",
       "    .dataframe thead th {\n",
       "        text-align: right;\n",
       "    }\n",
       "</style>\n",
       "<table border=\"1\" class=\"dataframe\">\n",
       "  <thead>\n",
       "    <tr style=\"text-align: right;\">\n",
       "      <th></th>\n",
       "      <th>a</th>\n",
       "      <th>b</th>\n",
       "      <th>att_1</th>\n",
       "      <th>att_2</th>\n",
       "      <th>att_3</th>\n",
       "    </tr>\n",
       "  </thead>\n",
       "  <tbody>\n",
       "    <tr>\n",
       "      <th>0</th>\n",
       "      <td>1</td>\n",
       "      <td>2</td>\n",
       "      <td>1</td>\n",
       "      <td>whatever</td>\n",
       "      <td>TET</td>\n",
       "    </tr>\n",
       "  </tbody>\n",
       "</table>\n",
       "</div>"
      ],
      "text/plain": [
       "   a  b att_1     att_2 att_3\n",
       "0  1  2     1  whatever   TET"
      ]
     },
     "execution_count": 104,
     "metadata": {},
     "output_type": "execute_result"
    }
   ],
   "source": [
    "result"
   ]
  },
  {
   "cell_type": "code",
   "execution_count": 105,
   "metadata": {},
   "outputs": [
    {
     "data": {
      "text/plain": [
       "[{'a': 1,\n",
       "  'b': 2,\n",
       "  'Category 1': {'att_1': 1, 'att_2': 'whatever', 'att_3': 'TET'}},\n",
       " {'a': 1,\n",
       "  'b': 2,\n",
       "  'Category 1': {'att_1': 1, 'att_2': 'whatever', 'att_3': 'TET'}},\n",
       " {'a': 1,\n",
       "  'b': 2,\n",
       "  'Category 1': {'att_1': 1, 'att_2': 'whatever', 'att_3': 'TET'}}]"
      ]
     },
     "execution_count": 105,
     "metadata": {},
     "output_type": "execute_result"
    }
   ],
   "source": [
    "lista=[{'a':1,'b':2,'Category 1': {'att_1': 1, 'att_2': 'whatever','att_3': 'TET'}},{'a':1,'b':2,'Category 1': {'att_1': 1, 'att_2': 'whatever','att_3': 'TET'}},{'a':1,'b':2,'Category 1': {'att_1': 1, 'att_2': 'whatever','att_3': 'TET'}}]\n",
    "lista"
   ]
  },
  {
   "cell_type": "code",
   "execution_count": 122,
   "metadata": {},
   "outputs": [
    {
     "data": {
      "text/plain": [
       "[\"{'股票名称': '基金通乾', '昨收': '0.94', '净值': '0.9515'}\\n\",\n",
       " \"{'股票名称': '基金科瑞', '昨收': '0.82', '净值': '0.8540'}\\n\",\n",
       " \"{'股票名称': '基金银丰', '昨收': '0.99', '净值': '1.0170'}\\n\"]"
      ]
     },
     "execution_count": 122,
     "metadata": {},
     "output_type": "execute_result"
    }
   ],
   "source": [
    "a = [\"{'股票名称': '基金通乾', '昨收': '0.94', '净值': '0.9515'}\\n\", \"{'股票名称': '基金科瑞', '昨收': '0.82', '净值': '0.8540'}\\n\", \"{'股票名称': '基金银丰', '昨收': '0.99', '净值': '1.0170'}\\n\"]\n",
    "a"
   ]
  },
  {
   "cell_type": "code",
   "execution_count": 124,
   "metadata": {},
   "outputs": [],
   "source": [
    "b=[eval(x) for x in a]"
   ]
  },
  {
   "cell_type": "code",
   "execution_count": 125,
   "metadata": {},
   "outputs": [
    {
     "data": {
      "text/html": [
       "<div>\n",
       "<style scoped>\n",
       "    .dataframe tbody tr th:only-of-type {\n",
       "        vertical-align: middle;\n",
       "    }\n",
       "\n",
       "    .dataframe tbody tr th {\n",
       "        vertical-align: top;\n",
       "    }\n",
       "\n",
       "    .dataframe thead th {\n",
       "        text-align: right;\n",
       "    }\n",
       "</style>\n",
       "<table border=\"1\" class=\"dataframe\">\n",
       "  <thead>\n",
       "    <tr style=\"text-align: right;\">\n",
       "      <th></th>\n",
       "      <th>股票名称</th>\n",
       "      <th>昨收</th>\n",
       "      <th>净值</th>\n",
       "    </tr>\n",
       "  </thead>\n",
       "  <tbody>\n",
       "    <tr>\n",
       "      <th>0</th>\n",
       "      <td>基金通乾</td>\n",
       "      <td>0.94</td>\n",
       "      <td>0.9515</td>\n",
       "    </tr>\n",
       "    <tr>\n",
       "      <th>1</th>\n",
       "      <td>基金科瑞</td>\n",
       "      <td>0.82</td>\n",
       "      <td>0.8540</td>\n",
       "    </tr>\n",
       "    <tr>\n",
       "      <th>2</th>\n",
       "      <td>基金银丰</td>\n",
       "      <td>0.99</td>\n",
       "      <td>1.0170</td>\n",
       "    </tr>\n",
       "  </tbody>\n",
       "</table>\n",
       "</div>"
      ],
      "text/plain": [
       "   股票名称    昨收      净值\n",
       "0  基金通乾  0.94  0.9515\n",
       "1  基金科瑞  0.82  0.8540\n",
       "2  基金银丰  0.99  1.0170"
      ]
     },
     "execution_count": 125,
     "metadata": {},
     "output_type": "execute_result"
    }
   ],
   "source": [
    "df=pd.DataFrame(b)\n",
    "df"
   ]
  },
  {
   "cell_type": "code",
   "execution_count": 126,
   "metadata": {},
   "outputs": [
    {
     "data": {
      "text/plain": [
       "[\"{'股票名称': '基金通乾', '昨收':{'a':1,'b':2}, '净值': '0.9515'}\\n\",\n",
       " \"{'股票名称': '基金科瑞', '昨收':{'a':3,'b':4}, '净值': '0.8540'}\\n\",\n",
       " \"{'股票名称': '基金银丰', '昨收':{'a':1,'b':2}, '净值': '1.0170'}\\n\"]"
      ]
     },
     "execution_count": 126,
     "metadata": {},
     "output_type": "execute_result"
    }
   ],
   "source": [
    "a = [\"{'股票名称': '基金通乾', '昨收':{'a':1,'b':2}, '净值': '0.9515'}\\n\", \"{'股票名称': '基金科瑞', '昨收':{'a':3,'b':4}, '净值': '0.8540'}\\n\", \"{'股票名称': '基金银丰', '昨收':{'a':1,'b':2}, '净值': '1.0170'}\\n\"]\n",
    "a"
   ]
  },
  {
   "cell_type": "code",
   "execution_count": 127,
   "metadata": {},
   "outputs": [],
   "source": [
    "b=[eval(x) for x in a]"
   ]
  },
  {
   "cell_type": "code",
   "execution_count": 128,
   "metadata": {},
   "outputs": [
    {
     "data": {
      "text/html": [
       "<div>\n",
       "<style scoped>\n",
       "    .dataframe tbody tr th:only-of-type {\n",
       "        vertical-align: middle;\n",
       "    }\n",
       "\n",
       "    .dataframe tbody tr th {\n",
       "        vertical-align: top;\n",
       "    }\n",
       "\n",
       "    .dataframe thead th {\n",
       "        text-align: right;\n",
       "    }\n",
       "</style>\n",
       "<table border=\"1\" class=\"dataframe\">\n",
       "  <thead>\n",
       "    <tr style=\"text-align: right;\">\n",
       "      <th></th>\n",
       "      <th>股票名称</th>\n",
       "      <th>昨收</th>\n",
       "      <th>净值</th>\n",
       "    </tr>\n",
       "  </thead>\n",
       "  <tbody>\n",
       "    <tr>\n",
       "      <th>0</th>\n",
       "      <td>基金通乾</td>\n",
       "      <td>{'a': 1, 'b': 2}</td>\n",
       "      <td>0.9515</td>\n",
       "    </tr>\n",
       "    <tr>\n",
       "      <th>1</th>\n",
       "      <td>基金科瑞</td>\n",
       "      <td>{'a': 3, 'b': 4}</td>\n",
       "      <td>0.8540</td>\n",
       "    </tr>\n",
       "    <tr>\n",
       "      <th>2</th>\n",
       "      <td>基金银丰</td>\n",
       "      <td>{'a': 1, 'b': 2}</td>\n",
       "      <td>1.0170</td>\n",
       "    </tr>\n",
       "  </tbody>\n",
       "</table>\n",
       "</div>"
      ],
      "text/plain": [
       "   股票名称                昨收      净值\n",
       "0  基金通乾  {'a': 1, 'b': 2}  0.9515\n",
       "1  基金科瑞  {'a': 3, 'b': 4}  0.8540\n",
       "2  基金银丰  {'a': 1, 'b': 2}  1.0170"
      ]
     },
     "execution_count": 128,
     "metadata": {},
     "output_type": "execute_result"
    }
   ],
   "source": [
    "df=pd.DataFrame(b)\n",
    "df"
   ]
  },
  {
   "cell_type": "code",
   "execution_count": 129,
   "metadata": {},
   "outputs": [
    {
     "data": {
      "text/html": [
       "<div>\n",
       "<style scoped>\n",
       "    .dataframe tbody tr th:only-of-type {\n",
       "        vertical-align: middle;\n",
       "    }\n",
       "\n",
       "    .dataframe tbody tr th {\n",
       "        vertical-align: top;\n",
       "    }\n",
       "\n",
       "    .dataframe thead th {\n",
       "        text-align: right;\n",
       "    }\n",
       "</style>\n",
       "<table border=\"1\" class=\"dataframe\">\n",
       "  <thead>\n",
       "    <tr style=\"text-align: right;\">\n",
       "      <th></th>\n",
       "      <th>0</th>\n",
       "    </tr>\n",
       "  </thead>\n",
       "  <tbody>\n",
       "    <tr>\n",
       "      <th>0</th>\n",
       "      <td>{'股票名称': '基金通乾', '昨收':{'a':1,'b':2}, '净值': '0....</td>\n",
       "    </tr>\n",
       "    <tr>\n",
       "      <th>1</th>\n",
       "      <td>{'股票名称': '基金科瑞', '昨收':{'a':3,'b':4}, '净值': '0....</td>\n",
       "    </tr>\n",
       "    <tr>\n",
       "      <th>2</th>\n",
       "      <td>{'股票名称': '基金银丰', '昨收':{'a':1,'b':2}, '净值': '1....</td>\n",
       "    </tr>\n",
       "  </tbody>\n",
       "</table>\n",
       "</div>"
      ],
      "text/plain": [
       "                                                   0\n",
       "0  {'股票名称': '基金通乾', '昨收':{'a':1,'b':2}, '净值': '0....\n",
       "1  {'股票名称': '基金科瑞', '昨收':{'a':3,'b':4}, '净值': '0....\n",
       "2  {'股票名称': '基金银丰', '昨收':{'a':1,'b':2}, '净值': '1...."
      ]
     },
     "execution_count": 129,
     "metadata": {},
     "output_type": "execute_result"
    }
   ],
   "source": [
    "df=pd.DataFrame(a)\n",
    "df"
   ]
  },
  {
   "cell_type": "code",
   "execution_count": null,
   "metadata": {},
   "outputs": [],
   "source": []
  }
 ],
 "metadata": {
  "kernelspec": {
   "display_name": "Python 3",
   "language": "python",
   "name": "python3"
  },
  "language_info": {
   "codemirror_mode": {
    "name": "ipython",
    "version": 3
   },
   "file_extension": ".py",
   "mimetype": "text/x-python",
   "name": "python",
   "nbconvert_exporter": "python",
   "pygments_lexer": "ipython3",
   "version": "3.7.3"
  }
 },
 "nbformat": 4,
 "nbformat_minor": 4
}
